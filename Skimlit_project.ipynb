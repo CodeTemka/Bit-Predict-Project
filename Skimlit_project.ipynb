{
  "nbformat": 4,
  "nbformat_minor": 0,
  "metadata": {
    "colab": {
      "provenance": [],
      "gpuType": "T4",
      "mount_file_id": "1hTtXm37DcQm_VJTYG3KIXlUrXzEy28ht",
      "authorship_tag": "ABX9TyNtczaQAhlGgML7dI2KNQio"
    },
    "kernelspec": {
      "name": "python3",
      "display_name": "Python 3"
    },
    "language_info": {
      "name": "python"
    },
    "accelerator": "GPU"
  },
  "cells": [
    {
      "cell_type": "markdown",
      "source": [
        "# Skimlit project"
      ],
      "metadata": {
        "id": "4M9CAHwPI3IJ"
      }
    },
    {
      "cell_type": "markdown",
      "source": [
        "## Get the data"
      ],
      "metadata": {
        "id": "TYtMBK9UJwPR"
      }
    },
    {
      "cell_type": "code",
      "source": [
        "!git clone https://github.com/Franck-Dernoncourt/pubmed-rct\n",
        "!ls pubmed-rct"
      ],
      "metadata": {
        "colab": {
          "base_uri": "https://localhost:8080/"
        },
        "id": "G1JtuTfkI1JT",
        "outputId": "6f9380cd-6101-4963-925b-a915df750a81"
      },
      "execution_count": null,
      "outputs": [
        {
          "output_type": "stream",
          "name": "stdout",
          "text": [
            "fatal: destination path 'pubmed-rct' already exists and is not an empty directory.\n",
            "PubMed_200k_RCT\n",
            "PubMed_200k_RCT_numbers_replaced_with_at_sign\n",
            "PubMed_20k_RCT\n",
            "PubMed_20k_RCT_numbers_replaced_with_at_sign\n",
            "README.md\n"
          ]
        }
      ]
    },
    {
      "cell_type": "code",
      "source": [
        "!pip install -q tensorflow==2.15\n",
        "import os\n",
        "os.kill(os.getpid(), 9)"
      ],
      "metadata": {
        "id": "eSpayLS0qioN"
      },
      "execution_count": null,
      "outputs": []
    },
    {
      "cell_type": "code",
      "source": [
        "!ls pubmed-rct/PubMed_20k_RCT_numbers_replaced_with_at_sign/"
      ],
      "metadata": {
        "colab": {
          "base_uri": "https://localhost:8080/"
        },
        "id": "_Mpo0FBQKRUn",
        "outputId": "410fea24-27d1-4cee-80f0-205b396143da"
      },
      "execution_count": null,
      "outputs": [
        {
          "output_type": "stream",
          "name": "stdout",
          "text": [
            "dev.txt  test.txt  train.txt\n"
          ]
        }
      ]
    },
    {
      "cell_type": "code",
      "source": [
        "data_dir = '/content/pubmed-rct/PubMed_20k_RCT_numbers_replaced_with_at_sign/'"
      ],
      "metadata": {
        "id": "AZJWkxJrKq9U"
      },
      "execution_count": null,
      "outputs": []
    },
    {
      "cell_type": "code",
      "source": [
        "import os\n",
        "filenames = [data_dir + filename for filename in os.listdir(data_dir)]\n",
        "filenames"
      ],
      "metadata": {
        "colab": {
          "base_uri": "https://localhost:8080/"
        },
        "id": "3sGb1y_yLtkq",
        "outputId": "82fb8693-8023-479a-9c7f-bbe33af3ceb8"
      },
      "execution_count": null,
      "outputs": [
        {
          "output_type": "execute_result",
          "data": {
            "text/plain": [
              "['/content/pubmed-rct/PubMed_20k_RCT_numbers_replaced_with_at_sign/dev.txt',\n",
              " '/content/pubmed-rct/PubMed_20k_RCT_numbers_replaced_with_at_sign/train.txt',\n",
              " '/content/pubmed-rct/PubMed_20k_RCT_numbers_replaced_with_at_sign/test.txt']"
            ]
          },
          "metadata": {},
          "execution_count": 5
        }
      ]
    },
    {
      "cell_type": "markdown",
      "source": [
        "## Preprocess the data"
      ],
      "metadata": {
        "id": "N1YUXEzZOji9"
      }
    },
    {
      "cell_type": "code",
      "source": [
        "def get_lines(filename):\n",
        "  with open(filename,'r') as f:\n",
        "    lines = f.readlines()\n",
        "  return lines"
      ],
      "metadata": {
        "id": "lJ5ou2DnL44t"
      },
      "execution_count": null,
      "outputs": []
    },
    {
      "cell_type": "code",
      "source": [
        "train_lines = get_lines(filenames[0])\n",
        "test_lines = get_lines(filenames[1])\n",
        "valid_lines = get_lines(filenames[2])"
      ],
      "metadata": {
        "id": "43KVnNm0PR9l"
      },
      "execution_count": null,
      "outputs": []
    },
    {
      "cell_type": "code",
      "source": [
        "train_lines[:10]"
      ],
      "metadata": {
        "colab": {
          "base_uri": "https://localhost:8080/"
        },
        "id": "DpwiKqELPkwI",
        "outputId": "0fca8d46-ccbb-47be-908f-4c1259ccfc46"
      },
      "execution_count": null,
      "outputs": [
        {
          "output_type": "execute_result",
          "data": {
            "text/plain": [
              "['###24290286\\n',\n",
              " 'BACKGROUND\\tIgE sensitization to Aspergillus fumigatus and a positive sputum fungal culture result are common in patients with refractory asthma .\\n',\n",
              " 'BACKGROUND\\tIt is not clear whether these patients would benefit from antifungal treatment .\\n',\n",
              " 'OBJECTIVE\\tWe sought to determine whether a @-month course of voriconazole improved asthma-related outcomes in patients with asthma who are IgE sensitized to A fumigatus .\\n',\n",
              " 'METHODS\\tAsthmatic patients who were IgE sensitized to A fumigatus with a history of at least @ severe exacerbations in the previous @ months were treated for @ months with @ mg of voriconazole twice daily , followed by observation for @ months , in a double-blind , placebo-controlled , randomized design .\\n',\n",
              " 'METHODS\\tPrimary outcomes were improvement in quality of life at the end of the treatment period and a reduction in the number of severe exacerbations over the @ months of the study .\\n',\n",
              " 'RESULTS\\tSixty-five patients were randomized .\\n',\n",
              " 'RESULTS\\tFifty-nine patients started treatment ( @ receiving voriconazole and @ receiving placebo ) and were included in an intention-to-treat analysis .\\n',\n",
              " 'RESULTS\\tFifty-six patients took the full @ months of medication .\\n',\n",
              " 'RESULTS\\tBetween the voriconazole and placebo groups , there were no significant differences in the number of severe exacerbations ( @ vs @ per patient per year , respectively ; mean difference , @ ; @ % CI , @-@ @ ) , quality of life ( change in Asthma Quality of Life Questionnaire score , @ vs @ ; mean difference between groups , @ ; @ % CI , -@ to -@ ) , or any of our secondary outcome measures .\\n']"
            ]
          },
          "metadata": {},
          "execution_count": 8
        }
      ]
    },
    {
      "cell_type": "code",
      "source": [
        "test_lines[:10]"
      ],
      "metadata": {
        "colab": {
          "base_uri": "https://localhost:8080/"
        },
        "id": "ObestLYKQGd2",
        "outputId": "53ae42d0-e811-4316-e400-f8121056ddbb"
      },
      "execution_count": null,
      "outputs": [
        {
          "output_type": "execute_result",
          "data": {
            "text/plain": [
              "['###24293578\\n',\n",
              " 'OBJECTIVE\\tTo investigate the efficacy of @ weeks of daily low-dose oral prednisolone in improving pain , mobility , and systemic low-grade inflammation in the short term and whether the effect would be sustained at @ weeks in older adults with moderate to severe knee osteoarthritis ( OA ) .\\n',\n",
              " 'METHODS\\tA total of @ patients with primary knee OA were randomized @:@ ; @ received @ mg/day of prednisolone and @ received placebo for @ weeks .\\n',\n",
              " 'METHODS\\tOutcome measures included pain reduction and improvement in function scores and systemic inflammation markers .\\n',\n",
              " 'METHODS\\tPain was assessed using the visual analog pain scale ( @-@ mm ) .\\n',\n",
              " 'METHODS\\tSecondary outcome measures included the Western Ontario and McMaster Universities Osteoarthritis Index scores , patient global assessment ( PGA ) of the severity of knee OA , and @-min walk distance ( @MWD ) .\\n',\n",
              " 'METHODS\\tSerum levels of interleukin @ ( IL-@ ) , IL-@ , tumor necrosis factor ( TNF ) - , and high-sensitivity C-reactive protein ( hsCRP ) were measured .\\n',\n",
              " 'RESULTS\\tThere was a clinically relevant reduction in the intervention group compared to the placebo group for knee pain , physical function , PGA , and @MWD at @ weeks .\\n',\n",
              " 'RESULTS\\tThe mean difference between treatment arms ( @ % CI ) was @ ( @-@ @ ) , p < @ ; @ ( @-@ @ ) , p < @ ; @ ( @-@ @ ) , p < @ ; and @ ( @-@ @ ) , p < @ , respectively .\\n',\n",
              " 'RESULTS\\tFurther , there was a clinically relevant reduction in the serum levels of IL-@ , IL-@ , TNF - , and hsCRP at @ weeks in the intervention group when compared to the placebo group .\\n']"
            ]
          },
          "metadata": {},
          "execution_count": 9
        }
      ]
    },
    {
      "cell_type": "code",
      "source": [
        "valid_lines[:10]"
      ],
      "metadata": {
        "colab": {
          "base_uri": "https://localhost:8080/"
        },
        "id": "B2q1V7zoQMMz",
        "outputId": "11abc8c7-db39-4588-d933-3575b3960a84"
      },
      "execution_count": null,
      "outputs": [
        {
          "output_type": "execute_result",
          "data": {
            "text/plain": [
              "['###24845963\\n',\n",
              " 'BACKGROUND\\tThis study analyzed liver function abnormalities in heart failure patients admitted with severe acute decompensated heart failure ( ADHF ) .\\n',\n",
              " 'RESULTS\\tA post hoc analysis was conducted with the use of data from the Evaluation Study of Congestive Heart Failure and Pulmonary Artery Catheterization Effectiveness ( ESCAPE ) .\\n',\n",
              " 'RESULTS\\tLiver function tests ( LFTs ) were measured at @ time points from baseline , at discharge , and up to @ months follow-up .\\n',\n",
              " 'RESULTS\\tSurvival analyses were used to assess the association between admission Model of End-Stage Liver Disease Excluding International Normalized Ratio ( MELD-XI ) scores and patient outcome.There was a high prevalence of abnormal baseline ( admission ) LFTs ( albumin @ % , aspartate transaminase @ % , alanine transaminase @ % , and total bilirubin @ % ) .\\n',\n",
              " \"RESULTS\\tThe percentage of patients with abnormal LFTs decreased significantly from baseline to @-months ' follow-up .\\n\",\n",
              " 'RESULTS\\tWhen mean hemodynamic profiles were compared in patients with abnormal versus normal LFTs , elevated total bilirubin was associated with a significantly lower cardiac index ( @ vs @ ; P < @ ) and higher central venous pressure ( @ vs @ ; P = @ ) .\\n',\n",
              " 'RESULTS\\tMultivariable analyses revealed that patients with elevated MELD-XI scores ( @ ) had a @-fold ( hazard ratio@ @ , @ % confidence interval @-@ @ ) increased risk of death , rehospitalization , or transplantation after adjusting for baseline LFTs , age , sex , race , body mass index , diabetes , and systolic blood pressure .\\n',\n",
              " 'CONCLUSIONS\\tAbnormal LFTs are common in the ADHF population and are a dynamic marker of an impaired hemodynamic state .\\n',\n",
              " 'CONCLUSIONS\\tElevated MELD-XI scores are associated with poor outcomes among patients admitted with ADHF .\\n']"
            ]
          },
          "metadata": {},
          "execution_count": 10
        }
      ]
    },
    {
      "cell_type": "code",
      "source": [
        "def preprocess_text_with_line(filename):\n",
        "  input_lines = get_lines(filename)\n",
        "  abstract_lines = ''\n",
        "  abstract_samples = []\n",
        "  for line in input_lines:\n",
        "    if line.startswith('###'):\n",
        "      abstract_lines = ''\n",
        "    elif line.isspace():\n",
        "      abstract_line_split = abstract_lines.splitlines()\n",
        "\n",
        "      for abstract_line_number, abstract_line in enumerate(abstract_line_split):\n",
        "        line_data = {}\n",
        "        target_text_split = abstract_line.split('\\t')\n",
        "        line_data['target'] = target_text_split[0]\n",
        "        line_data['text'] = target_text_split[1].lower()\n",
        "        line_data['line_number'] = abstract_line_number\n",
        "        line_data['total_lines'] = len(abstract_line_split) - 1\n",
        "        abstract_samples.append(line_data)\n",
        "    else:\n",
        "      abstract_lines += line\n",
        "  return abstract_samples"
      ],
      "metadata": {
        "id": "jlP9NSquQPGG"
      },
      "execution_count": null,
      "outputs": []
    },
    {
      "cell_type": "code",
      "source": [
        "train_samples = preprocess_text_with_line(filenames[0])\n",
        "val_samples = preprocess_text_with_line(filenames[2])\n",
        "test_samples = preprocess_text_with_line(filenames[1])"
      ],
      "metadata": {
        "id": "Gh_cvfDnV8wg"
      },
      "execution_count": null,
      "outputs": []
    },
    {
      "cell_type": "code",
      "source": [
        "train_samples[:10]"
      ],
      "metadata": {
        "colab": {
          "base_uri": "https://localhost:8080/"
        },
        "id": "7SIBpPkuWei8",
        "outputId": "33dfa79a-9c5a-4649-b9fc-fd7dd7c696e3"
      },
      "execution_count": null,
      "outputs": [
        {
          "output_type": "execute_result",
          "data": {
            "text/plain": [
              "[{'target': 'BACKGROUND',\n",
              "  'text': 'ige sensitization to aspergillus fumigatus and a positive sputum fungal culture result are common in patients with refractory asthma .',\n",
              "  'line_number': 0,\n",
              "  'total_lines': 9},\n",
              " {'target': 'BACKGROUND',\n",
              "  'text': 'it is not clear whether these patients would benefit from antifungal treatment .',\n",
              "  'line_number': 1,\n",
              "  'total_lines': 9},\n",
              " {'target': 'OBJECTIVE',\n",
              "  'text': 'we sought to determine whether a @-month course of voriconazole improved asthma-related outcomes in patients with asthma who are ige sensitized to a fumigatus .',\n",
              "  'line_number': 2,\n",
              "  'total_lines': 9},\n",
              " {'target': 'METHODS',\n",
              "  'text': 'asthmatic patients who were ige sensitized to a fumigatus with a history of at least @ severe exacerbations in the previous @ months were treated for @ months with @ mg of voriconazole twice daily , followed by observation for @ months , in a double-blind , placebo-controlled , randomized design .',\n",
              "  'line_number': 3,\n",
              "  'total_lines': 9},\n",
              " {'target': 'METHODS',\n",
              "  'text': 'primary outcomes were improvement in quality of life at the end of the treatment period and a reduction in the number of severe exacerbations over the @ months of the study .',\n",
              "  'line_number': 4,\n",
              "  'total_lines': 9},\n",
              " {'target': 'RESULTS',\n",
              "  'text': 'sixty-five patients were randomized .',\n",
              "  'line_number': 5,\n",
              "  'total_lines': 9},\n",
              " {'target': 'RESULTS',\n",
              "  'text': 'fifty-nine patients started treatment ( @ receiving voriconazole and @ receiving placebo ) and were included in an intention-to-treat analysis .',\n",
              "  'line_number': 6,\n",
              "  'total_lines': 9},\n",
              " {'target': 'RESULTS',\n",
              "  'text': 'fifty-six patients took the full @ months of medication .',\n",
              "  'line_number': 7,\n",
              "  'total_lines': 9},\n",
              " {'target': 'RESULTS',\n",
              "  'text': 'between the voriconazole and placebo groups , there were no significant differences in the number of severe exacerbations ( @ vs @ per patient per year , respectively ; mean difference , @ ; @ % ci , @-@ @ ) , quality of life ( change in asthma quality of life questionnaire score , @ vs @ ; mean difference between groups , @ ; @ % ci , -@ to -@ ) , or any of our secondary outcome measures .',\n",
              "  'line_number': 8,\n",
              "  'total_lines': 9},\n",
              " {'target': 'CONCLUSIONS',\n",
              "  'text': 'we were unable to show a beneficial effect of @ months of treatment with voriconazole in patients with moderate-to-severe asthma who were ige sensitized to a fumigatus on either the rate of severe exacerbations , quality of life , or other markers of asthma control .',\n",
              "  'line_number': 9,\n",
              "  'total_lines': 9}]"
            ]
          },
          "metadata": {},
          "execution_count": 13
        }
      ]
    },
    {
      "cell_type": "code",
      "source": [
        "len(train_samples)"
      ],
      "metadata": {
        "colab": {
          "base_uri": "https://localhost:8080/"
        },
        "id": "2KDl3cMMWiEU",
        "outputId": "19afd8ed-dd4a-4fd8-c7eb-52dbaef64208"
      },
      "execution_count": null,
      "outputs": [
        {
          "output_type": "execute_result",
          "data": {
            "text/plain": [
              "30212"
            ]
          },
          "metadata": {},
          "execution_count": 14
        }
      ]
    },
    {
      "cell_type": "code",
      "source": [
        "import pandas as pd\n",
        "train_df = pd.DataFrame(train_samples)\n",
        "val_df = pd.DataFrame(val_samples)\n",
        "test_df = pd.DataFrame(test_samples)"
      ],
      "metadata": {
        "id": "k8vMUe2RWwmO"
      },
      "execution_count": null,
      "outputs": []
    },
    {
      "cell_type": "code",
      "source": [
        "train_df.head(10)"
      ],
      "metadata": {
        "colab": {
          "base_uri": "https://localhost:8080/",
          "height": 363
        },
        "id": "cF68zoEqX247",
        "outputId": "dac6d9fa-d8fa-4565-c1fc-a60864515032"
      },
      "execution_count": null,
      "outputs": [
        {
          "output_type": "execute_result",
          "data": {
            "text/plain": [
              "        target                                               text  \\\n",
              "0   BACKGROUND  ige sensitization to aspergillus fumigatus and...   \n",
              "1   BACKGROUND  it is not clear whether these patients would b...   \n",
              "2    OBJECTIVE  we sought to determine whether a @-month cours...   \n",
              "3      METHODS  asthmatic patients who were ige sensitized to ...   \n",
              "4      METHODS  primary outcomes were improvement in quality o...   \n",
              "5      RESULTS              sixty-five patients were randomized .   \n",
              "6      RESULTS  fifty-nine patients started treatment ( @ rece...   \n",
              "7      RESULTS  fifty-six patients took the full @ months of m...   \n",
              "8      RESULTS  between the voriconazole and placebo groups , ...   \n",
              "9  CONCLUSIONS  we were unable to show a beneficial effect of ...   \n",
              "\n",
              "   line_number  total_lines  \n",
              "0            0            9  \n",
              "1            1            9  \n",
              "2            2            9  \n",
              "3            3            9  \n",
              "4            4            9  \n",
              "5            5            9  \n",
              "6            6            9  \n",
              "7            7            9  \n",
              "8            8            9  \n",
              "9            9            9  "
            ],
            "text/html": [
              "\n",
              "  <div id=\"df-3a5c71f9-7e4d-4106-aa82-2d40fe9a60be\" class=\"colab-df-container\">\n",
              "    <div>\n",
              "<style scoped>\n",
              "    .dataframe tbody tr th:only-of-type {\n",
              "        vertical-align: middle;\n",
              "    }\n",
              "\n",
              "    .dataframe tbody tr th {\n",
              "        vertical-align: top;\n",
              "    }\n",
              "\n",
              "    .dataframe thead th {\n",
              "        text-align: right;\n",
              "    }\n",
              "</style>\n",
              "<table border=\"1\" class=\"dataframe\">\n",
              "  <thead>\n",
              "    <tr style=\"text-align: right;\">\n",
              "      <th></th>\n",
              "      <th>target</th>\n",
              "      <th>text</th>\n",
              "      <th>line_number</th>\n",
              "      <th>total_lines</th>\n",
              "    </tr>\n",
              "  </thead>\n",
              "  <tbody>\n",
              "    <tr>\n",
              "      <th>0</th>\n",
              "      <td>BACKGROUND</td>\n",
              "      <td>ige sensitization to aspergillus fumigatus and...</td>\n",
              "      <td>0</td>\n",
              "      <td>9</td>\n",
              "    </tr>\n",
              "    <tr>\n",
              "      <th>1</th>\n",
              "      <td>BACKGROUND</td>\n",
              "      <td>it is not clear whether these patients would b...</td>\n",
              "      <td>1</td>\n",
              "      <td>9</td>\n",
              "    </tr>\n",
              "    <tr>\n",
              "      <th>2</th>\n",
              "      <td>OBJECTIVE</td>\n",
              "      <td>we sought to determine whether a @-month cours...</td>\n",
              "      <td>2</td>\n",
              "      <td>9</td>\n",
              "    </tr>\n",
              "    <tr>\n",
              "      <th>3</th>\n",
              "      <td>METHODS</td>\n",
              "      <td>asthmatic patients who were ige sensitized to ...</td>\n",
              "      <td>3</td>\n",
              "      <td>9</td>\n",
              "    </tr>\n",
              "    <tr>\n",
              "      <th>4</th>\n",
              "      <td>METHODS</td>\n",
              "      <td>primary outcomes were improvement in quality o...</td>\n",
              "      <td>4</td>\n",
              "      <td>9</td>\n",
              "    </tr>\n",
              "    <tr>\n",
              "      <th>5</th>\n",
              "      <td>RESULTS</td>\n",
              "      <td>sixty-five patients were randomized .</td>\n",
              "      <td>5</td>\n",
              "      <td>9</td>\n",
              "    </tr>\n",
              "    <tr>\n",
              "      <th>6</th>\n",
              "      <td>RESULTS</td>\n",
              "      <td>fifty-nine patients started treatment ( @ rece...</td>\n",
              "      <td>6</td>\n",
              "      <td>9</td>\n",
              "    </tr>\n",
              "    <tr>\n",
              "      <th>7</th>\n",
              "      <td>RESULTS</td>\n",
              "      <td>fifty-six patients took the full @ months of m...</td>\n",
              "      <td>7</td>\n",
              "      <td>9</td>\n",
              "    </tr>\n",
              "    <tr>\n",
              "      <th>8</th>\n",
              "      <td>RESULTS</td>\n",
              "      <td>between the voriconazole and placebo groups , ...</td>\n",
              "      <td>8</td>\n",
              "      <td>9</td>\n",
              "    </tr>\n",
              "    <tr>\n",
              "      <th>9</th>\n",
              "      <td>CONCLUSIONS</td>\n",
              "      <td>we were unable to show a beneficial effect of ...</td>\n",
              "      <td>9</td>\n",
              "      <td>9</td>\n",
              "    </tr>\n",
              "  </tbody>\n",
              "</table>\n",
              "</div>\n",
              "    <div class=\"colab-df-buttons\">\n",
              "\n",
              "  <div class=\"colab-df-container\">\n",
              "    <button class=\"colab-df-convert\" onclick=\"convertToInteractive('df-3a5c71f9-7e4d-4106-aa82-2d40fe9a60be')\"\n",
              "            title=\"Convert this dataframe to an interactive table.\"\n",
              "            style=\"display:none;\">\n",
              "\n",
              "  <svg xmlns=\"http://www.w3.org/2000/svg\" height=\"24px\" viewBox=\"0 -960 960 960\">\n",
              "    <path d=\"M120-120v-720h720v720H120Zm60-500h600v-160H180v160Zm220 220h160v-160H400v160Zm0 220h160v-160H400v160ZM180-400h160v-160H180v160Zm440 0h160v-160H620v160ZM180-180h160v-160H180v160Zm440 0h160v-160H620v160Z\"/>\n",
              "  </svg>\n",
              "    </button>\n",
              "\n",
              "  <style>\n",
              "    .colab-df-container {\n",
              "      display:flex;\n",
              "      gap: 12px;\n",
              "    }\n",
              "\n",
              "    .colab-df-convert {\n",
              "      background-color: #E8F0FE;\n",
              "      border: none;\n",
              "      border-radius: 50%;\n",
              "      cursor: pointer;\n",
              "      display: none;\n",
              "      fill: #1967D2;\n",
              "      height: 32px;\n",
              "      padding: 0 0 0 0;\n",
              "      width: 32px;\n",
              "    }\n",
              "\n",
              "    .colab-df-convert:hover {\n",
              "      background-color: #E2EBFA;\n",
              "      box-shadow: 0px 1px 2px rgba(60, 64, 67, 0.3), 0px 1px 3px 1px rgba(60, 64, 67, 0.15);\n",
              "      fill: #174EA6;\n",
              "    }\n",
              "\n",
              "    .colab-df-buttons div {\n",
              "      margin-bottom: 4px;\n",
              "    }\n",
              "\n",
              "    [theme=dark] .colab-df-convert {\n",
              "      background-color: #3B4455;\n",
              "      fill: #D2E3FC;\n",
              "    }\n",
              "\n",
              "    [theme=dark] .colab-df-convert:hover {\n",
              "      background-color: #434B5C;\n",
              "      box-shadow: 0px 1px 3px 1px rgba(0, 0, 0, 0.15);\n",
              "      filter: drop-shadow(0px 1px 2px rgba(0, 0, 0, 0.3));\n",
              "      fill: #FFFFFF;\n",
              "    }\n",
              "  </style>\n",
              "\n",
              "    <script>\n",
              "      const buttonEl =\n",
              "        document.querySelector('#df-3a5c71f9-7e4d-4106-aa82-2d40fe9a60be button.colab-df-convert');\n",
              "      buttonEl.style.display =\n",
              "        google.colab.kernel.accessAllowed ? 'block' : 'none';\n",
              "\n",
              "      async function convertToInteractive(key) {\n",
              "        const element = document.querySelector('#df-3a5c71f9-7e4d-4106-aa82-2d40fe9a60be');\n",
              "        const dataTable =\n",
              "          await google.colab.kernel.invokeFunction('convertToInteractive',\n",
              "                                                    [key], {});\n",
              "        if (!dataTable) return;\n",
              "\n",
              "        const docLinkHtml = 'Like what you see? Visit the ' +\n",
              "          '<a target=\"_blank\" href=https://colab.research.google.com/notebooks/data_table.ipynb>data table notebook</a>'\n",
              "          + ' to learn more about interactive tables.';\n",
              "        element.innerHTML = '';\n",
              "        dataTable['output_type'] = 'display_data';\n",
              "        await google.colab.output.renderOutput(dataTable, element);\n",
              "        const docLink = document.createElement('div');\n",
              "        docLink.innerHTML = docLinkHtml;\n",
              "        element.appendChild(docLink);\n",
              "      }\n",
              "    </script>\n",
              "  </div>\n",
              "\n",
              "\n",
              "    <div id=\"df-28579a6f-2087-4c47-8ed4-e214a518d939\">\n",
              "      <button class=\"colab-df-quickchart\" onclick=\"quickchart('df-28579a6f-2087-4c47-8ed4-e214a518d939')\"\n",
              "                title=\"Suggest charts\"\n",
              "                style=\"display:none;\">\n",
              "\n",
              "<svg xmlns=\"http://www.w3.org/2000/svg\" height=\"24px\"viewBox=\"0 0 24 24\"\n",
              "     width=\"24px\">\n",
              "    <g>\n",
              "        <path d=\"M19 3H5c-1.1 0-2 .9-2 2v14c0 1.1.9 2 2 2h14c1.1 0 2-.9 2-2V5c0-1.1-.9-2-2-2zM9 17H7v-7h2v7zm4 0h-2V7h2v10zm4 0h-2v-4h2v4z\"/>\n",
              "    </g>\n",
              "</svg>\n",
              "      </button>\n",
              "\n",
              "<style>\n",
              "  .colab-df-quickchart {\n",
              "      --bg-color: #E8F0FE;\n",
              "      --fill-color: #1967D2;\n",
              "      --hover-bg-color: #E2EBFA;\n",
              "      --hover-fill-color: #174EA6;\n",
              "      --disabled-fill-color: #AAA;\n",
              "      --disabled-bg-color: #DDD;\n",
              "  }\n",
              "\n",
              "  [theme=dark] .colab-df-quickchart {\n",
              "      --bg-color: #3B4455;\n",
              "      --fill-color: #D2E3FC;\n",
              "      --hover-bg-color: #434B5C;\n",
              "      --hover-fill-color: #FFFFFF;\n",
              "      --disabled-bg-color: #3B4455;\n",
              "      --disabled-fill-color: #666;\n",
              "  }\n",
              "\n",
              "  .colab-df-quickchart {\n",
              "    background-color: var(--bg-color);\n",
              "    border: none;\n",
              "    border-radius: 50%;\n",
              "    cursor: pointer;\n",
              "    display: none;\n",
              "    fill: var(--fill-color);\n",
              "    height: 32px;\n",
              "    padding: 0;\n",
              "    width: 32px;\n",
              "  }\n",
              "\n",
              "  .colab-df-quickchart:hover {\n",
              "    background-color: var(--hover-bg-color);\n",
              "    box-shadow: 0 1px 2px rgba(60, 64, 67, 0.3), 0 1px 3px 1px rgba(60, 64, 67, 0.15);\n",
              "    fill: var(--button-hover-fill-color);\n",
              "  }\n",
              "\n",
              "  .colab-df-quickchart-complete:disabled,\n",
              "  .colab-df-quickchart-complete:disabled:hover {\n",
              "    background-color: var(--disabled-bg-color);\n",
              "    fill: var(--disabled-fill-color);\n",
              "    box-shadow: none;\n",
              "  }\n",
              "\n",
              "  .colab-df-spinner {\n",
              "    border: 2px solid var(--fill-color);\n",
              "    border-color: transparent;\n",
              "    border-bottom-color: var(--fill-color);\n",
              "    animation:\n",
              "      spin 1s steps(1) infinite;\n",
              "  }\n",
              "\n",
              "  @keyframes spin {\n",
              "    0% {\n",
              "      border-color: transparent;\n",
              "      border-bottom-color: var(--fill-color);\n",
              "      border-left-color: var(--fill-color);\n",
              "    }\n",
              "    20% {\n",
              "      border-color: transparent;\n",
              "      border-left-color: var(--fill-color);\n",
              "      border-top-color: var(--fill-color);\n",
              "    }\n",
              "    30% {\n",
              "      border-color: transparent;\n",
              "      border-left-color: var(--fill-color);\n",
              "      border-top-color: var(--fill-color);\n",
              "      border-right-color: var(--fill-color);\n",
              "    }\n",
              "    40% {\n",
              "      border-color: transparent;\n",
              "      border-right-color: var(--fill-color);\n",
              "      border-top-color: var(--fill-color);\n",
              "    }\n",
              "    60% {\n",
              "      border-color: transparent;\n",
              "      border-right-color: var(--fill-color);\n",
              "    }\n",
              "    80% {\n",
              "      border-color: transparent;\n",
              "      border-right-color: var(--fill-color);\n",
              "      border-bottom-color: var(--fill-color);\n",
              "    }\n",
              "    90% {\n",
              "      border-color: transparent;\n",
              "      border-bottom-color: var(--fill-color);\n",
              "    }\n",
              "  }\n",
              "</style>\n",
              "\n",
              "      <script>\n",
              "        async function quickchart(key) {\n",
              "          const quickchartButtonEl =\n",
              "            document.querySelector('#' + key + ' button');\n",
              "          quickchartButtonEl.disabled = true;  // To prevent multiple clicks.\n",
              "          quickchartButtonEl.classList.add('colab-df-spinner');\n",
              "          try {\n",
              "            const charts = await google.colab.kernel.invokeFunction(\n",
              "                'suggestCharts', [key], {});\n",
              "          } catch (error) {\n",
              "            console.error('Error during call to suggestCharts:', error);\n",
              "          }\n",
              "          quickchartButtonEl.classList.remove('colab-df-spinner');\n",
              "          quickchartButtonEl.classList.add('colab-df-quickchart-complete');\n",
              "        }\n",
              "        (() => {\n",
              "          let quickchartButtonEl =\n",
              "            document.querySelector('#df-28579a6f-2087-4c47-8ed4-e214a518d939 button');\n",
              "          quickchartButtonEl.style.display =\n",
              "            google.colab.kernel.accessAllowed ? 'block' : 'none';\n",
              "        })();\n",
              "      </script>\n",
              "    </div>\n",
              "\n",
              "    </div>\n",
              "  </div>\n"
            ],
            "application/vnd.google.colaboratory.intrinsic+json": {
              "type": "dataframe",
              "variable_name": "train_df",
              "summary": "{\n  \"name\": \"train_df\",\n  \"rows\": 30212,\n  \"fields\": [\n    {\n      \"column\": \"target\",\n      \"properties\": {\n        \"dtype\": \"category\",\n        \"num_unique_values\": 5,\n        \"samples\": [\n          \"OBJECTIVE\",\n          \"CONCLUSIONS\",\n          \"METHODS\"\n        ],\n        \"semantic_type\": \"\",\n        \"description\": \"\"\n      }\n    },\n    {\n      \"column\": \"text\",\n      \"properties\": {\n        \"dtype\": \"string\",\n        \"num_unique_values\": 29870,\n        \"samples\": [\n          \"a reduction in pigment was observed with both lasers during the study period .\",\n          \"ten paramedics with field experience were trained with an ultrasound machine in the performance of the fast scan .\",\n          \"we examined the impact of milk proteins and combined exercise training ( cet ) on bp , arterial function , and muscle strength ( one-repetition maximum ( @-rm ) ) .\"\n        ],\n        \"semantic_type\": \"\",\n        \"description\": \"\"\n      }\n    },\n    {\n      \"column\": \"line_number\",\n      \"properties\": {\n        \"dtype\": \"number\",\n        \"std\": 4,\n        \"min\": 0,\n        \"max\": 26,\n        \"num_unique_values\": 27,\n        \"samples\": [\n          8,\n          13,\n          9\n        ],\n        \"semantic_type\": \"\",\n        \"description\": \"\"\n      }\n    },\n    {\n      \"column\": \"total_lines\",\n      \"properties\": {\n        \"dtype\": \"number\",\n        \"std\": 3,\n        \"min\": 3,\n        \"max\": 26,\n        \"num_unique_values\": 23,\n        \"samples\": [\n          16,\n          20,\n          9\n        ],\n        \"semantic_type\": \"\",\n        \"description\": \"\"\n      }\n    }\n  ]\n}"
            }
          },
          "metadata": {},
          "execution_count": 16
        }
      ]
    },
    {
      "cell_type": "code",
      "source": [
        "train_df.target.value_counts()"
      ],
      "metadata": {
        "colab": {
          "base_uri": "https://localhost:8080/",
          "height": 272
        },
        "id": "50wTL5ltX4I7",
        "outputId": "f3ed6718-76f2-4c7f-f415-0c157bf8d44c"
      },
      "execution_count": null,
      "outputs": [
        {
          "output_type": "execute_result",
          "data": {
            "text/plain": [
              "target\n",
              "METHODS        9964\n",
              "RESULTS        9841\n",
              "CONCLUSIONS    4582\n",
              "BACKGROUND     3449\n",
              "OBJECTIVE      2376\n",
              "Name: count, dtype: int64"
            ],
            "text/html": [
              "<div>\n",
              "<style scoped>\n",
              "    .dataframe tbody tr th:only-of-type {\n",
              "        vertical-align: middle;\n",
              "    }\n",
              "\n",
              "    .dataframe tbody tr th {\n",
              "        vertical-align: top;\n",
              "    }\n",
              "\n",
              "    .dataframe thead th {\n",
              "        text-align: right;\n",
              "    }\n",
              "</style>\n",
              "<table border=\"1\" class=\"dataframe\">\n",
              "  <thead>\n",
              "    <tr style=\"text-align: right;\">\n",
              "      <th></th>\n",
              "      <th>count</th>\n",
              "    </tr>\n",
              "    <tr>\n",
              "      <th>target</th>\n",
              "      <th></th>\n",
              "    </tr>\n",
              "  </thead>\n",
              "  <tbody>\n",
              "    <tr>\n",
              "      <th>METHODS</th>\n",
              "      <td>9964</td>\n",
              "    </tr>\n",
              "    <tr>\n",
              "      <th>RESULTS</th>\n",
              "      <td>9841</td>\n",
              "    </tr>\n",
              "    <tr>\n",
              "      <th>CONCLUSIONS</th>\n",
              "      <td>4582</td>\n",
              "    </tr>\n",
              "    <tr>\n",
              "      <th>BACKGROUND</th>\n",
              "      <td>3449</td>\n",
              "    </tr>\n",
              "    <tr>\n",
              "      <th>OBJECTIVE</th>\n",
              "      <td>2376</td>\n",
              "    </tr>\n",
              "  </tbody>\n",
              "</table>\n",
              "</div><br><label><b>dtype:</b> int64</label>"
            ]
          },
          "metadata": {},
          "execution_count": 17
        }
      ]
    },
    {
      "cell_type": "code",
      "source": [
        "train_df.total_lines.hist(bins=10)"
      ],
      "metadata": {
        "colab": {
          "base_uri": "https://localhost:8080/",
          "height": 447
        },
        "id": "NbZvC4joYZLm",
        "outputId": "7b144ce8-c0a1-4c9a-f929-4a02afa30ef7"
      },
      "execution_count": null,
      "outputs": [
        {
          "output_type": "execute_result",
          "data": {
            "text/plain": [
              "<Axes: >"
            ]
          },
          "metadata": {},
          "execution_count": 18
        },
        {
          "output_type": "display_data",
          "data": {
            "text/plain": [
              "<Figure size 640x480 with 1 Axes>"
            ],
            "image/png": "[encoded data removed]"
          },
          "metadata": {}
        }
      ]
    },
    {
      "cell_type": "code",
      "source": [
        "train_sentences = train_df.text.to_list()\n",
        "val_sentences = val_df.text.to_list()\n",
        "test_sentences = test_df.text.to_list()"
      ],
      "metadata": {
        "id": "G3c2xSveYvwb"
      },
      "execution_count": null,
      "outputs": []
    },
    {
      "cell_type": "code",
      "source": [
        "train_sentences[:5]"
      ],
      "metadata": {
        "colab": {
          "base_uri": "https://localhost:8080/"
        },
        "id": "YQXXUH-ddnJT",
        "outputId": "ace20e58-91aa-48c4-c0fe-43068c17254b"
      },
      "execution_count": null,
      "outputs": [
        {
          "output_type": "execute_result",
          "data": {
            "text/plain": [
              "['ige sensitization to aspergillus fumigatus and a positive sputum fungal culture result are common in patients with refractory asthma .',\n",
              " 'it is not clear whether these patients would benefit from antifungal treatment .',\n",
              " 'we sought to determine whether a @-month course of voriconazole improved asthma-related outcomes in patients with asthma who are ige sensitized to a fumigatus .',\n",
              " 'asthmatic patients who were ige sensitized to a fumigatus with a history of at least @ severe exacerbations in the previous @ months were treated for @ months with @ mg of voriconazole twice daily , followed by observation for @ months , in a double-blind , placebo-controlled , randomized design .',\n",
              " 'primary outcomes were improvement in quality of life at the end of the treatment period and a reduction in the number of severe exacerbations over the @ months of the study .']"
            ]
          },
          "metadata": {},
          "execution_count": 20
        }
      ]
    },
    {
      "cell_type": "markdown",
      "source": [
        "### Make numeric labels"
      ],
      "metadata": {
        "id": "29PUcARsaTrG"
      }
    },
    {
      "cell_type": "code",
      "source": [
        "from sklearn.preprocessing import OneHotEncoder\n",
        "one_hot_encoder = OneHotEncoder(sparse_output=False)\n",
        "\n",
        "train_labels_one_hot = one_hot_encoder.fit_transform(train_df.target.to_numpy().reshape(-1,1))\n",
        "val_labels_one_hot = one_hot_encoder.transform(val_df.target.to_numpy().reshape(-1,1))\n",
        "test_labels_one_hot = one_hot_encoder.transform(test_df.target.to_numpy().reshape(-1,1))"
      ],
      "metadata": {
        "id": "t8zFdORjYmJ1"
      },
      "execution_count": null,
      "outputs": []
    },
    {
      "cell_type": "code",
      "source": [
        "train_labels_one_hot, train_labels_one_hot.shape"
      ],
      "metadata": {
        "colab": {
          "base_uri": "https://localhost:8080/"
        },
        "id": "l4PX6M-RbiZX",
        "outputId": "ff37a42c-6706-4ecf-8363-6fa1dcb8bd3e"
      },
      "execution_count": null,
      "outputs": [
        {
          "output_type": "execute_result",
          "data": {
            "text/plain": [
              "(array([[1., 0., 0., 0., 0.],\n",
              "        [1., 0., 0., 0., 0.],\n",
              "        [0., 0., 0., 1., 0.],\n",
              "        ...,\n",
              "        [0., 0., 0., 0., 1.],\n",
              "        [0., 1., 0., 0., 0.],\n",
              "        [0., 1., 0., 0., 0.]]),\n",
              " (30212, 5))"
            ]
          },
          "metadata": {},
          "execution_count": 22
        }
      ]
    },
    {
      "cell_type": "markdown",
      "source": [
        "### Label encode labels"
      ],
      "metadata": {
        "id": "dK74uYkJbyXB"
      }
    },
    {
      "cell_type": "code",
      "source": [
        "from sklearn.preprocessing import LabelEncoder\n",
        "label_encoder = LabelEncoder()\n",
        "train_labels_encoded = label_encoder.fit_transform(train_df.target.to_numpy())\n",
        "val_labels_encoded = label_encoder.transform(val_df.target.to_numpy())\n",
        "test_labels_encoded = label_encoder.transform(test_df.target.to_numpy())"
      ],
      "metadata": {
        "id": "NKgk0i3ebt_y"
      },
      "execution_count": null,
      "outputs": []
    },
    {
      "cell_type": "code",
      "source": [
        "train_labels_encoded"
      ],
      "metadata": {
        "colab": {
          "base_uri": "https://localhost:8080/"
        },
        "id": "e8ApJcVZcTSF",
        "outputId": "fa72e2c8-17db-4166-dfa7-fb7b724e2ab5"
      },
      "execution_count": null,
      "outputs": [
        {
          "output_type": "execute_result",
          "data": {
            "text/plain": [
              "array([0, 0, 3, ..., 4, 1, 1])"
            ]
          },
          "metadata": {},
          "execution_count": 24
        }
      ]
    },
    {
      "cell_type": "code",
      "source": [
        "num_classes = len(label_encoder.classes_)\n",
        "class_names = label_encoder.classes_\n",
        "num_classes, class_names"
      ],
      "metadata": {
        "colab": {
          "base_uri": "https://localhost:8080/"
        },
        "id": "vMT-CpqfcVK6",
        "outputId": "4b0045cd-a419-4fbf-c8c3-b85f23368573"
      },
      "execution_count": null,
      "outputs": [
        {
          "output_type": "execute_result",
          "data": {
            "text/plain": [
              "(5,\n",
              " array(['BACKGROUND', 'CONCLUSIONS', 'METHODS', 'OBJECTIVE', 'RESULTS'],\n",
              "       dtype=object))"
            ]
          },
          "metadata": {},
          "execution_count": 25
        }
      ]
    },
    {
      "cell_type": "markdown",
      "source": [
        "## Starting a series of experimentation"
      ],
      "metadata": {
        "id": "x9MSlB2id0v4"
      }
    },
    {
      "cell_type": "markdown",
      "source": [
        "### Model 0: Base model"
      ],
      "metadata": {
        "id": "t-9UQQpid4b4"
      }
    },
    {
      "cell_type": "code",
      "source": [
        "from sklearn.feature_extraction.text import TfidfVectorizer\n",
        "from sklearn.naive_bayes import MultinomialNB\n",
        "from sklearn.pipeline import Pipeline\n",
        "\n",
        "model_0 = Pipeline([\n",
        "  ('tfidf', TfidfVectorizer()),\n",
        "  ('clf', MultinomialNB())\n",
        "])\n",
        "\n",
        "model_0.fit(train_sentences, train_labels_encoded)"
      ],
      "metadata": {
        "colab": {
          "base_uri": "https://localhost:8080/",
          "height": 155
        },
        "id": "fS1ZVH0lcqQX",
        "outputId": "11a2df1d-8bf4-47f9-efbb-54eb8b68090e"
      },
      "execution_count": null,
      "outputs": [
        {
          "output_type": "execute_result",
          "data": {
            "text/plain": [
              "Pipeline(steps=[('tfidf', TfidfVectorizer()), ('clf', MultinomialNB())])"
            ],
            "text/html": [
              "<style>#sk-container-id-1 {\n",
              "  /* Definition of color scheme common for light and dark mode */\n",
              "  --sklearn-color-text: #000;\n",
              "  --sklearn-color-text-muted: #666;\n",
              "  --sklearn-color-line: gray;\n",
              "  /* Definition of color scheme for unfitted estimators */\n",
              "  --sklearn-color-unfitted-level-0: #fff5e6;\n",
              "  --sklearn-color-unfitted-level-1: #f6e4d2;\n",
              "  --sklearn-color-unfitted-level-2: #ffe0b3;\n",
              "  --sklearn-color-unfitted-level-3: chocolate;\n",
              "  /* Definition of color scheme for fitted estimators */\n",
              "  --sklearn-color-fitted-level-0: #f0f8ff;\n",
              "  --sklearn-color-fitted-level-1: #d4ebff;\n",
              "  --sklearn-color-fitted-level-2: #b3dbfd;\n",
              "  --sklearn-color-fitted-level-3: cornflowerblue;\n",
              "\n",
              "  /* Specific color for light theme */\n",
              "  --sklearn-color-text-on-default-background: var(--sg-text-color, var(--theme-code-foreground, var(--jp-content-font-color1, black)));\n",
              "  --sklearn-color-background: var(--sg-background-color, var(--theme-background, var(--jp-layout-color0, white)));\n",
              "  --sklearn-color-border-box: var(--sg-text-color, var(--theme-code-foreground, var(--jp-content-font-color1, black)));\n",
              "  --sklearn-color-icon: #696969;\n",
              "\n",
              "  @media (prefers-color-scheme: dark) {\n",
              "    /* Redefinition of color scheme for dark theme */\n",
              "    --sklearn-color-text-on-default-background: var(--sg-text-color, var(--theme-code-foreground, var(--jp-content-font-color1, white)));\n",
              "    --sklearn-color-background: var(--sg-background-color, var(--theme-background, var(--jp-layout-color0, #111)));\n",
              "    --sklearn-color-border-box: var(--sg-text-color, var(--theme-code-foreground, var(--jp-content-font-color1, white)));\n",
              "    --sklearn-color-icon: #878787;\n",
              "  }\n",
              "}\n",
              "\n",
              "#sk-container-id-1 {\n",
              "  color: var(--sklearn-color-text);\n",
              "}\n",
              "\n",
              "#sk-container-id-1 pre {\n",
              "  padding: 0;\n",
              "}\n",
              "\n",
              "#sk-container-id-1 input.sk-hidden--visually {\n",
              "  border: 0;\n",
              "  clip: rect(1px 1px 1px 1px);\n",
              "  clip: rect(1px, 1px, 1px, 1px);\n",
              "  height: 1px;\n",
              "  margin: -1px;\n",
              "  overflow: hidden;\n",
              "  padding: 0;\n",
              "  position: absolute;\n",
              "  width: 1px;\n",
              "}\n",
              "\n",
              "#sk-container-id-1 div.sk-dashed-wrapped {\n",
              "  border: 1px dashed var(--sklearn-color-line);\n",
              "  margin: 0 0.4em 0.5em 0.4em;\n",
              "  box-sizing: border-box;\n",
              "  padding-bottom: 0.4em;\n",
              "  background-color: var(--sklearn-color-background);\n",
              "}\n",
              "\n",
              "#sk-container-id-1 div.sk-container {\n",
              "  /* jupyter's `normalize.less` sets `[hidden] { display: none; }`\n",
              "     but bootstrap.min.css set `[hidden] { display: none !important; }`\n",
              "     so we also need the `!important` here to be able to override the\n",
              "     default hidden behavior on the sphinx rendered scikit-learn.org.\n",
              "     See: https://github.com/scikit-learn/scikit-learn/issues/21755 */\n",
              "  display: inline-block !important;\n",
              "  position: relative;\n",
              "}\n",
              "\n",
              "#sk-container-id-1 div.sk-text-repr-fallback {\n",
              "  display: none;\n",
              "}\n",
              "\n",
              "div.sk-parallel-item,\n",
              "div.sk-serial,\n",
              "div.sk-item {\n",
              "  /* draw centered vertical line to link estimators */\n",
              "  background-image: linear-gradient(var(--sklearn-color-text-on-default-background), var(--sklearn-color-text-on-default-background));\n",
              "  background-size: 2px 100%;\n",
              "  background-repeat: no-repeat;\n",
              "  background-position: center center;\n",
              "}\n",
              "\n",
              "/* Parallel-specific style estimator block */\n",
              "\n",
              "#sk-container-id-1 div.sk-parallel-item::after {\n",
              "  content: \"\";\n",
              "  width: 100%;\n",
              "  border-bottom: 2px solid var(--sklearn-color-text-on-default-background);\n",
              "  flex-grow: 1;\n",
              "}\n",
              "\n",
              "#sk-container-id-1 div.sk-parallel {\n",
              "  display: flex;\n",
              "  align-items: stretch;\n",
              "  justify-content: center;\n",
              "  background-color: var(--sklearn-color-background);\n",
              "  position: relative;\n",
              "}\n",
              "\n",
              "#sk-container-id-1 div.sk-parallel-item {\n",
              "  display: flex;\n",
              "  flex-direction: column;\n",
              "}\n",
              "\n",
              "#sk-container-id-1 div.sk-parallel-item:first-child::after {\n",
              "  align-self: flex-end;\n",
              "  width: 50%;\n",
              "}\n",
              "\n",
              "#sk-container-id-1 div.sk-parallel-item:last-child::after {\n",
              "  align-self: flex-start;\n",
              "  width: 50%;\n",
              "}\n",
              "\n",
              "#sk-container-id-1 div.sk-parallel-item:only-child::after {\n",
              "  width: 0;\n",
              "}\n",
              "\n",
              "/* Serial-specific style estimator block */\n",
              "\n",
              "#sk-container-id-1 div.sk-serial {\n",
              "  display: flex;\n",
              "  flex-direction: column;\n",
              "  align-items: center;\n",
              "  background-color: var(--sklearn-color-background);\n",
              "  padding-right: 1em;\n",
              "  padding-left: 1em;\n",
              "}\n",
              "\n",
              "\n",
              "/* Toggleable style: style used for estimator/Pipeline/ColumnTransformer box that is\n",
              "clickable and can be expanded/collapsed.\n",
              "- Pipeline and ColumnTransformer use this feature and define the default style\n",
              "- Estimators will overwrite some part of the style using the `sk-estimator` class\n",
              "*/\n",
              "\n",
              "/* Pipeline and ColumnTransformer style (default) */\n",
              "\n",
              "#sk-container-id-1 div.sk-toggleable {\n",
              "  /* Default theme specific background. It is overwritten whether we have a\n",
              "  specific estimator or a Pipeline/ColumnTransformer */\n",
              "  background-color: var(--sklearn-color-background);\n",
              "}\n",
              "\n",
              "/* Toggleable label */\n",
              "#sk-container-id-1 label.sk-toggleable__label {\n",
              "  cursor: pointer;\n",
              "  display: flex;\n",
              "  width: 100%;\n",
              "  margin-bottom: 0;\n",
              "  padding: 0.5em;\n",
              "  box-sizing: border-box;\n",
              "  text-align: center;\n",
              "  align-items: start;\n",
              "  justify-content: space-between;\n",
              "  gap: 0.5em;\n",
              "}\n",
              "\n",
              "#sk-container-id-1 label.sk-toggleable__label .caption {\n",
              "  font-size: 0.6rem;\n",
              "  font-weight: lighter;\n",
              "  color: var(--sklearn-color-text-muted);\n",
              "}\n",
              "\n",
              "#sk-container-id-1 label.sk-toggleable__label-arrow:before {\n",
              "  /* Arrow on the left of the label */\n",
              "  content: \"▸\";\n",
              "  float: left;\n",
              "  margin-right: 0.25em;\n",
              "  color: var(--sklearn-color-icon);\n",
              "}\n",
              "\n",
              "#sk-container-id-1 label.sk-toggleable__label-arrow:hover:before {\n",
              "  color: var(--sklearn-color-text);\n",
              "}\n",
              "\n",
              "/* Toggleable content - dropdown */\n",
              "\n",
              "#sk-container-id-1 div.sk-toggleable__content {\n",
              "  max-height: 0;\n",
              "  max-width: 0;\n",
              "  overflow: hidden;\n",
              "  text-align: left;\n",
              "  /* unfitted */\n",
              "  background-color: var(--sklearn-color-unfitted-level-0);\n",
              "}\n",
              "\n",
              "#sk-container-id-1 div.sk-toggleable__content.fitted {\n",
              "  /* fitted */\n",
              "  background-color: var(--sklearn-color-fitted-level-0);\n",
              "}\n",
              "\n",
              "#sk-container-id-1 div.sk-toggleable__content pre {\n",
              "  margin: 0.2em;\n",
              "  border-radius: 0.25em;\n",
              "  color: var(--sklearn-color-text);\n",
              "  /* unfitted */\n",
              "  background-color: var(--sklearn-color-unfitted-level-0);\n",
              "}\n",
              "\n",
              "#sk-container-id-1 div.sk-toggleable__content.fitted pre {\n",
              "  /* unfitted */\n",
              "  background-color: var(--sklearn-color-fitted-level-0);\n",
              "}\n",
              "\n",
              "#sk-container-id-1 input.sk-toggleable__control:checked~div.sk-toggleable__content {\n",
              "  /* Expand drop-down */\n",
              "  max-height: 200px;\n",
              "  max-width: 100%;\n",
              "  overflow: auto;\n",
              "}\n",
              "\n",
              "#sk-container-id-1 input.sk-toggleable__control:checked~label.sk-toggleable__label-arrow:before {\n",
              "  content: \"▾\";\n",
              "}\n",
              "\n",
              "/* Pipeline/ColumnTransformer-specific style */\n",
              "\n",
              "#sk-container-id-1 div.sk-label input.sk-toggleable__control:checked~label.sk-toggleable__label {\n",
              "  color: var(--sklearn-color-text);\n",
              "  background-color: var(--sklearn-color-unfitted-level-2);\n",
              "}\n",
              "\n",
              "#sk-container-id-1 div.sk-label.fitted input.sk-toggleable__control:checked~label.sk-toggleable__label {\n",
              "  background-color: var(--sklearn-color-fitted-level-2);\n",
              "}\n",
              "\n",
              "/* Estimator-specific style */\n",
              "\n",
              "/* Colorize estimator box */\n",
              "#sk-container-id-1 div.sk-estimator input.sk-toggleable__control:checked~label.sk-toggleable__label {\n",
              "  /* unfitted */\n",
              "  background-color: var(--sklearn-color-unfitted-level-2);\n",
              "}\n",
              "\n",
              "#sk-container-id-1 div.sk-estimator.fitted input.sk-toggleable__control:checked~label.sk-toggleable__label {\n",
              "  /* fitted */\n",
              "  background-color: var(--sklearn-color-fitted-level-2);\n",
              "}\n",
              "\n",
              "#sk-container-id-1 div.sk-label label.sk-toggleable__label,\n",
              "#sk-container-id-1 div.sk-label label {\n",
              "  /* The background is the default theme color */\n",
              "  color: var(--sklearn-color-text-on-default-background);\n",
              "}\n",
              "\n",
              "/* On hover, darken the color of the background */\n",
              "#sk-container-id-1 div.sk-label:hover label.sk-toggleable__label {\n",
              "  color: var(--sklearn-color-text);\n",
              "  background-color: var(--sklearn-color-unfitted-level-2);\n",
              "}\n",
              "\n",
              "/* Label box, darken color on hover, fitted */\n",
              "#sk-container-id-1 div.sk-label.fitted:hover label.sk-toggleable__label.fitted {\n",
              "  color: var(--sklearn-color-text);\n",
              "  background-color: var(--sklearn-color-fitted-level-2);\n",
              "}\n",
              "\n",
              "/* Estimator label */\n",
              "\n",
              "#sk-container-id-1 div.sk-label label {\n",
              "  font-family: monospace;\n",
              "  font-weight: bold;\n",
              "  display: inline-block;\n",
              "  line-height: 1.2em;\n",
              "}\n",
              "\n",
              "#sk-container-id-1 div.sk-label-container {\n",
              "  text-align: center;\n",
              "}\n",
              "\n",
              "/* Estimator-specific */\n",
              "#sk-container-id-1 div.sk-estimator {\n",
              "  font-family: monospace;\n",
              "  border: 1px dotted var(--sklearn-color-border-box);\n",
              "  border-radius: 0.25em;\n",
              "  box-sizing: border-box;\n",
              "  margin-bottom: 0.5em;\n",
              "  /* unfitted */\n",
              "  background-color: var(--sklearn-color-unfitted-level-0);\n",
              "}\n",
              "\n",
              "#sk-container-id-1 div.sk-estimator.fitted {\n",
              "  /* fitted */\n",
              "  background-color: var(--sklearn-color-fitted-level-0);\n",
              "}\n",
              "\n",
              "/* on hover */\n",
              "#sk-container-id-1 div.sk-estimator:hover {\n",
              "  /* unfitted */\n",
              "  background-color: var(--sklearn-color-unfitted-level-2);\n",
              "}\n",
              "\n",
              "#sk-container-id-1 div.sk-estimator.fitted:hover {\n",
              "  /* fitted */\n",
              "  background-color: var(--sklearn-color-fitted-level-2);\n",
              "}\n",
              "\n",
              "/* Specification for estimator info (e.g. \"i\" and \"?\") */\n",
              "\n",
              "/* Common style for \"i\" and \"?\" */\n",
              "\n",
              ".sk-estimator-doc-link,\n",
              "a:link.sk-estimator-doc-link,\n",
              "a:visited.sk-estimator-doc-link {\n",
              "  float: right;\n",
              "  font-size: smaller;\n",
              "  line-height: 1em;\n",
              "  font-family: monospace;\n",
              "  background-color: var(--sklearn-color-background);\n",
              "  border-radius: 1em;\n",
              "  height: 1em;\n",
              "  width: 1em;\n",
              "  text-decoration: none !important;\n",
              "  margin-left: 0.5em;\n",
              "  text-align: center;\n",
              "  /* unfitted */\n",
              "  border: var(--sklearn-color-unfitted-level-1) 1pt solid;\n",
              "  color: var(--sklearn-color-unfitted-level-1);\n",
              "}\n",
              "\n",
              ".sk-estimator-doc-link.fitted,\n",
              "a:link.sk-estimator-doc-link.fitted,\n",
              "a:visited.sk-estimator-doc-link.fitted {\n",
              "  /* fitted */\n",
              "  border: var(--sklearn-color-fitted-level-1) 1pt solid;\n",
              "  color: var(--sklearn-color-fitted-level-1);\n",
              "}\n",
              "\n",
              "/* On hover */\n",
              "div.sk-estimator:hover .sk-estimator-doc-link:hover,\n",
              ".sk-estimator-doc-link:hover,\n",
              "div.sk-label-container:hover .sk-estimator-doc-link:hover,\n",
              ".sk-estimator-doc-link:hover {\n",
              "  /* unfitted */\n",
              "  background-color: var(--sklearn-color-unfitted-level-3);\n",
              "  color: var(--sklearn-color-background);\n",
              "  text-decoration: none;\n",
              "}\n",
              "\n",
              "div.sk-estimator.fitted:hover .sk-estimator-doc-link.fitted:hover,\n",
              ".sk-estimator-doc-link.fitted:hover,\n",
              "div.sk-label-container:hover .sk-estimator-doc-link.fitted:hover,\n",
              ".sk-estimator-doc-link.fitted:hover {\n",
              "  /* fitted */\n",
              "  background-color: var(--sklearn-color-fitted-level-3);\n",
              "  color: var(--sklearn-color-background);\n",
              "  text-decoration: none;\n",
              "}\n",
              "\n",
              "/* Span, style for the box shown on hovering the info icon */\n",
              ".sk-estimator-doc-link span {\n",
              "  display: none;\n",
              "  z-index: 9999;\n",
              "  position: relative;\n",
              "  font-weight: normal;\n",
              "  right: .2ex;\n",
              "  padding: .5ex;\n",
              "  margin: .5ex;\n",
              "  width: min-content;\n",
              "  min-width: 20ex;\n",
              "  max-width: 50ex;\n",
              "  color: var(--sklearn-color-text);\n",
              "  box-shadow: 2pt 2pt 4pt #999;\n",
              "  /* unfitted */\n",
              "  background: var(--sklearn-color-unfitted-level-0);\n",
              "  border: .5pt solid var(--sklearn-color-unfitted-level-3);\n",
              "}\n",
              "\n",
              ".sk-estimator-doc-link.fitted span {\n",
              "  /* fitted */\n",
              "  background: var(--sklearn-color-fitted-level-0);\n",
              "  border: var(--sklearn-color-fitted-level-3);\n",
              "}\n",
              "\n",
              ".sk-estimator-doc-link:hover span {\n",
              "  display: block;\n",
              "}\n",
              "\n",
              "/* \"?\"-specific style due to the `<a>` HTML tag */\n",
              "\n",
              "#sk-container-id-1 a.estimator_doc_link {\n",
              "  float: right;\n",
              "  font-size: 1rem;\n",
              "  line-height: 1em;\n",
              "  font-family: monospace;\n",
              "  background-color: var(--sklearn-color-background);\n",
              "  border-radius: 1rem;\n",
              "  height: 1rem;\n",
              "  width: 1rem;\n",
              "  text-decoration: none;\n",
              "  /* unfitted */\n",
              "  color: var(--sklearn-color-unfitted-level-1);\n",
              "  border: var(--sklearn-color-unfitted-level-1) 1pt solid;\n",
              "}\n",
              "\n",
              "#sk-container-id-1 a.estimator_doc_link.fitted {\n",
              "  /* fitted */\n",
              "  border: var(--sklearn-color-fitted-level-1) 1pt solid;\n",
              "  color: var(--sklearn-color-fitted-level-1);\n",
              "}\n",
              "\n",
              "/* On hover */\n",
              "#sk-container-id-1 a.estimator_doc_link:hover {\n",
              "  /* unfitted */\n",
              "  background-color: var(--sklearn-color-unfitted-level-3);\n",
              "  color: var(--sklearn-color-background);\n",
              "  text-decoration: none;\n",
              "}\n",
              "\n",
              "#sk-container-id-1 a.estimator_doc_link.fitted:hover {\n",
              "  /* fitted */\n",
              "  background-color: var(--sklearn-color-fitted-level-3);\n",
              "}\n",
              "</style><div id=\"sk-container-id-1\" class=\"sk-top-container\"><div class=\"sk-text-repr-fallback\"><pre>Pipeline(steps=[(&#x27;tfidf&#x27;, TfidfVectorizer()), (&#x27;clf&#x27;, MultinomialNB())])</pre><b>In a Jupyter environment, please rerun this cell to show the HTML representation or trust the notebook. <br />On GitHub, the HTML representation is unable to render, please try loading this page with nbviewer.org.</b></div><div class=\"sk-container\" hidden><div class=\"sk-item sk-dashed-wrapped\"><div class=\"sk-label-container\"><div class=\"sk-label fitted sk-toggleable\"><input class=\"sk-toggleable__control sk-hidden--visually\" id=\"sk-estimator-id-1\" type=\"checkbox\" ><label for=\"sk-estimator-id-1\" class=\"sk-toggleable__label fitted sk-toggleable__label-arrow\"><div><div>Pipeline</div></div><div><a class=\"sk-estimator-doc-link fitted\" rel=\"noreferrer\" target=\"_blank\" href=\"https://scikit-learn.org/1.6/modules/generated/sklearn.pipeline.Pipeline.html\">?<span>Documentation for Pipeline</span></a><span class=\"sk-estimator-doc-link fitted\">i<span>Fitted</span></span></div></label><div class=\"sk-toggleable__content fitted\"><pre>Pipeline(steps=[(&#x27;tfidf&#x27;, TfidfVectorizer()), (&#x27;clf&#x27;, MultinomialNB())])</pre></div> </div></div><div class=\"sk-serial\"><div class=\"sk-item\"><div class=\"sk-estimator fitted sk-toggleable\"><input class=\"sk-toggleable__control sk-hidden--visually\" id=\"sk-estimator-id-2\" type=\"checkbox\" ><label for=\"sk-estimator-id-2\" class=\"sk-toggleable__label fitted sk-toggleable__label-arrow\"><div><div>TfidfVectorizer</div></div><div><a class=\"sk-estimator-doc-link fitted\" rel=\"noreferrer\" target=\"_blank\" href=\"https://scikit-learn.org/1.6/modules/generated/sklearn.feature_extraction.text.TfidfVectorizer.html\">?<span>Documentation for TfidfVectorizer</span></a></div></label><div class=\"sk-toggleable__content fitted\"><pre>TfidfVectorizer()</pre></div> </div></div><div class=\"sk-item\"><div class=\"sk-estimator fitted sk-toggleable\"><input class=\"sk-toggleable__control sk-hidden--visually\" id=\"sk-estimator-id-3\" type=\"checkbox\" ><label for=\"sk-estimator-id-3\" class=\"sk-toggleable__label fitted sk-toggleable__label-arrow\"><div><div>MultinomialNB</div></div><div><a class=\"sk-estimator-doc-link fitted\" rel=\"noreferrer\" target=\"_blank\" href=\"https://scikit-learn.org/1.6/modules/generated/sklearn.naive_bayes.MultinomialNB.html\">?<span>Documentation for MultinomialNB</span></a></div></label><div class=\"sk-toggleable__content fitted\"><pre>MultinomialNB()</pre></div> </div></div></div></div></div></div>"
            ]
          },
          "metadata": {},
          "execution_count": 26
        }
      ]
    },
    {
      "cell_type": "code",
      "source": [
        "base_model_preds = model_0.predict(val_sentences)"
      ],
      "metadata": {
        "id": "zlALdEFKeZSM"
      },
      "execution_count": null,
      "outputs": []
    },
    {
      "cell_type": "code",
      "source": [
        "from sklearn.metrics import accuracy_score, precision_recall_fscore_support\n",
        "\n",
        "def calculate_results(y_true, y_pred):\n",
        "  \"\"\"\n",
        "  Calculates model accuracy, precision, recall and f1 score of a binary classification model.\n",
        "\n",
        "  Args:\n",
        "      y_true: true labels in the form of a 1D array\n",
        "      y_pred: predicted labels in the form of a 1D array\n",
        "\n",
        "  Returns a dictionary of accuracy, precision, recall, f1-score.\n",
        "  \"\"\"\n",
        "  # Calculate model accuracy\n",
        "  model_accuracy = accuracy_score(y_true, y_pred) * 100\n",
        "  # Calculate model precision, recall and f1 score using \"weighted average\n",
        "  model_precision, model_recall, model_f1, _ = precision_recall_fscore_support(y_true, y_pred, average=\"weighted\")\n",
        "  model_results = {\"accuracy\": model_accuracy,\n",
        "                  \"precision\": model_precision,\n",
        "                  \"recall\": model_recall,\n",
        "                  \"f1\": model_f1}\n",
        "  return model_results"
      ],
      "metadata": {
        "id": "sAmPSo4mgWe-"
      },
      "execution_count": null,
      "outputs": []
    },
    {
      "cell_type": "code",
      "source": [
        "base_model_results = calculate_results(y_true=val_labels_encoded,\n",
        "                                      y_pred=base_model_preds)\n",
        "base_model_results"
      ],
      "metadata": {
        "colab": {
          "base_uri": "https://localhost:8080/"
        },
        "id": "MjkfWpqVilvM",
        "outputId": "9b3f8b1d-e24c-495c-97b3-d959572f0e8c"
      },
      "execution_count": null,
      "outputs": [
        {
          "output_type": "execute_result",
          "data": {
            "text/plain": [
              "{'accuracy': 67.55931640949062,\n",
              " 'precision': 0.6707354792180861,\n",
              " 'recall': 0.6755931640949062,\n",
              " 'f1': 0.6337858496380698}"
            ]
          },
          "metadata": {},
          "execution_count": 29
        }
      ]
    },
    {
      "cell_type": "markdown",
      "source": [
        "### Preparing the data to the deep learning model (tokenization, embedding)"
      ],
      "metadata": {
        "id": "33-4MZy_khtB"
      }
    },
    {
      "cell_type": "code",
      "source": [
        "sen_len = [len(sentence.split()) for sentence in train_sentences]"
      ],
      "metadata": {
        "id": "yCWzq6wIiqw7"
      },
      "execution_count": null,
      "outputs": []
    },
    {
      "cell_type": "code",
      "source": [
        "import numpy as np\n",
        "\n",
        "avg_sen_len = np.mean(sen_len)\n",
        "avg_sen_len"
      ],
      "metadata": {
        "colab": {
          "base_uri": "https://localhost:8080/"
        },
        "id": "s_6kjVTWn5Ig",
        "outputId": "8a278b0b-21c1-4dd6-f299-bedd61d5f99e"
      },
      "execution_count": null,
      "outputs": [
        {
          "output_type": "execute_result",
          "data": {
            "text/plain": [
              "26.42244803389382"
            ]
          },
          "metadata": {},
          "execution_count": 31
        }
      ]
    },
    {
      "cell_type": "code",
      "source": [
        "import matplotlib.pyplot as plt\n",
        "\n",
        "plt.hist(sen_len, bins=50)\n",
        "plt.xlabel('Sentence length')\n",
        "plt.ylabel('Frequency')\n",
        "plt.title('Sentence length distribution')"
      ],
      "metadata": {
        "colab": {
          "base_uri": "https://localhost:8080/",
          "height": 489
        },
        "id": "P7wR6VKKn-zQ",
        "outputId": "859b4444-05c4-45e4-8110-30aae8f4af34"
      },
      "execution_count": null,
      "outputs": [
        {
          "output_type": "execute_result",
          "data": {
            "text/plain": [
              "Text(0.5, 1.0, 'Sentence length distribution')"
            ]
          },
          "metadata": {},
          "execution_count": 32
        },
        {
          "output_type": "display_data",
          "data": {
            "text/plain": [
              "<Figure size 640x480 with 1 Axes>"
            ],
            "image/png": "[encoded data removed]"
          },
          "metadata": {}
        }
      ]
    },
    {
      "cell_type": "code",
      "source": [
        "# How long of a sentence length covers 95% of the samples?\n",
        "output_seq_len = int(np.percentile(sen_len, 95))\n",
        "output_seq_len"
      ],
      "metadata": {
        "colab": {
          "base_uri": "https://localhost:8080/"
        },
        "id": "NcoyZRjiodxv",
        "outputId": "a256fdb8-0af0-4036-d994-f41c14b22be8"
      },
      "execution_count": null,
      "outputs": [
        {
          "output_type": "execute_result",
          "data": {
            "text/plain": [
              "55"
            ]
          },
          "metadata": {},
          "execution_count": 33
        }
      ]
    },
    {
      "cell_type": "code",
      "source": [
        "max(sen_len)"
      ],
      "metadata": {
        "colab": {
          "base_uri": "https://localhost:8080/"
        },
        "id": "W8m6vFPNo6ZV",
        "outputId": "2ea9ab54-c4fe-4ec7-b6ab-fb5a3d1a619b"
      },
      "execution_count": null,
      "outputs": [
        {
          "output_type": "execute_result",
          "data": {
            "text/plain": [
              "258"
            ]
          },
          "metadata": {},
          "execution_count": 34
        }
      ]
    },
    {
      "cell_type": "code",
      "source": [
        "max_tokens = 25000\n",
        "\n",
        "from tensorflow.keras.layers import TextVectorization\n",
        "\n",
        "text_vectorizer = TextVectorization(max_tokens=max_tokens,\n",
        "                                    output_sequence_length = output_seq_len)\n",
        "\n",
        "text_vectorizer.adapt(train_sentences)"
      ],
      "metadata": {
        "id": "TM8Lg5JepWEh"
      },
      "execution_count": null,
      "outputs": []
    },
    {
      "cell_type": "code",
      "source": [
        "rct_20k_text_vocab = text_vectorizer.get_vocabulary()\n",
        "print(f\"Number of words in vocab: {len(rct_20k_text_vocab)}\")\n",
        "print(f\"Top 5 words: {rct_20k_text_vocab[:5]}\")\n",
        "print(f'Bottom 5 words: {rct_20k_text_vocab[-5:]}')"
      ],
      "metadata": {
        "colab": {
          "base_uri": "https://localhost:8080/"
        },
        "id": "we3aF_werDMr",
        "outputId": "bebf4a85-f089-426d-dcc8-73b91c2b8791"
      },
      "execution_count": null,
      "outputs": [
        {
          "output_type": "stream",
          "name": "stdout",
          "text": [
            "Number of words in vocab: 25000\n",
            "Top 5 words: ['', '[UNK]', 'the', 'and', 'of']\n",
            "Bottom 5 words: ['aberdeen', 'abductor', 'abducting', 'abducted', 'abduct']\n"
          ]
        }
      ]
    },
    {
      "cell_type": "code",
      "source": [
        "text_vectorizer.get_config()"
      ],
      "metadata": {
        "colab": {
          "base_uri": "https://localhost:8080/"
        },
        "id": "Lw_rGgDlrpIG",
        "outputId": "2055b79a-724b-43b8-b3a1-6561b8bdac39"
      },
      "execution_count": null,
      "outputs": [
        {
          "output_type": "execute_result",
          "data": {
            "text/plain": [
              "{'name': 'text_vectorization',\n",
              " 'trainable': True,\n",
              " 'dtype': 'string',\n",
              " 'batch_input_shape': (None,),\n",
              " 'max_tokens': 25000,\n",
              " 'standardize': 'lower_and_strip_punctuation',\n",
              " 'split': 'whitespace',\n",
              " 'ngrams': None,\n",
              " 'output_mode': 'int',\n",
              " 'output_sequence_length': 55,\n",
              " 'pad_to_max_tokens': False,\n",
              " 'sparse': False,\n",
              " 'ragged': False,\n",
              " 'vocabulary': None,\n",
              " 'idf_weights': None,\n",
              " 'encoding': 'utf-8',\n",
              " 'vocabulary_size': 25000}"
            ]
          },
          "metadata": {},
          "execution_count": 37
        }
      ]
    },
    {
      "cell_type": "code",
      "source": [
        "# Create embedding layer\n",
        "import tensorflow as tf\n",
        "\n",
        "token_embed = tf.keras.layers.Embedding(\n",
        "    input_dim=len(rct_20k_text_vocab),\n",
        "    output_dim=128,\n",
        "    mask_zero=True, # it helps to efficiently compute values when there are many zeros in your input\n",
        "    name='token_embedding'\n",
        ")"
      ],
      "metadata": {
        "id": "E7Kh1s_SsjuY"
      },
      "execution_count": null,
      "outputs": []
    },
    {
      "cell_type": "code",
      "source": [
        "# Show example embedding\n",
        "import random\n",
        "random_sentence = random.choice(train_sentences)\n",
        "print(f\"Original text:\\n{random_sentence}\\\n",
        "      \\n\\nEmbedded version:\")\n",
        "\n",
        "sample_embed = token_embed(text_vectorizer([random_sentence]))\n",
        "sample_embed"
      ],
      "metadata": {
        "colab": {
          "base_uri": "https://localhost:8080/"
        },
        "id": "r9b7NSRDTMZi",
        "outputId": "7970d460-8bd2-4ea7-bf2b-9e7ee586406f"
      },
      "execution_count": null,
      "outputs": [
        {
          "output_type": "stream",
          "name": "stdout",
          "text": [
            "Original text:\n",
            "to examine the relationship among adiposity indicators , asthma , and atopy in puerto rican children , and to assess whether atopy mediates the obesity-asthma association .      \n",
            "\n",
            "Embedded version:\n"
          ]
        },
        {
          "output_type": "execute_result",
          "data": {
            "text/plain": [
              "<tf.Tensor: shape=(1, 55, 128), dtype=float32, numpy=\n",
              "array([[[ 0.04539371, -0.00112219, -0.0278301 , ...,  0.01444307,\n",
              "         -0.04682182, -0.03160182],\n",
              "        [-0.02241697, -0.01333358,  0.01152861, ..., -0.0227553 ,\n",
              "          0.00878977,  0.03260754],\n",
              "        [-0.04975522, -0.03050392, -0.00366708, ...,  0.03057126,\n",
              "         -0.01295557, -0.0364958 ],\n",
              "        ...,\n",
              "        [ 0.00107072, -0.04372803, -0.01232637, ..., -0.04646069,\n",
              "         -0.04583604,  0.04039023],\n",
              "        [ 0.00107072, -0.04372803, -0.01232637, ..., -0.04646069,\n",
              "         -0.04583604,  0.04039023],\n",
              "        [ 0.00107072, -0.04372803, -0.01232637, ..., -0.04646069,\n",
              "         -0.04583604,  0.04039023]]], dtype=float32)>"
            ]
          },
          "metadata": {},
          "execution_count": 39
        }
      ]
    },
    {
      "cell_type": "markdown",
      "source": [
        "### Creating datasets (making sure our data loads as fast as possible)"
      ],
      "metadata": {
        "id": "3vADtacQVKma"
      }
    },
    {
      "cell_type": "code",
      "source": [
        "# Turn our data into TensorFlow datasets\n",
        "train_dataset = tf.data.Dataset.from_tensor_slices((train_sentences, train_labels_one_hot))\n",
        "valid_dataset = tf.data.Dataset.from_tensor_slices((val_sentences, val_labels_one_hot))\n",
        "test_dataset = tf.data.Dataset.from_tensor_slices((test_sentences, test_labels_one_hot))"
      ],
      "metadata": {
        "id": "e29n3s6-T1PP"
      },
      "execution_count": null,
      "outputs": []
    },
    {
      "cell_type": "code",
      "source": [
        "train_dataset"
      ],
      "metadata": {
        "colab": {
          "base_uri": "https://localhost:8080/"
        },
        "id": "_8CB45rGVnlk",
        "outputId": "6ad3b69c-328c-4171-b737-a3c8d9338dea"
      },
      "execution_count": null,
      "outputs": [
        {
          "output_type": "execute_result",
          "data": {
            "text/plain": [
              "<_TensorSliceDataset element_spec=(TensorSpec(shape=(), dtype=tf.string, name=None), TensorSpec(shape=(5,), dtype=tf.float64, name=None))>"
            ]
          },
          "metadata": {},
          "execution_count": 41
        }
      ]
    },
    {
      "cell_type": "code",
      "source": [
        "# Take the TensorSliceDataset and turn them into prefetched dataset\n",
        "train_dataset = train_dataset.batch(32).prefetch(tf.data.AUTOTUNE)\n",
        "valid_dataset = valid_dataset.batch(32).prefetch(tf.data.AUTOTUNE)\n",
        "test_dataset = test_dataset.batch(32).prefetch(tf.data.AUTOTUNE)"
      ],
      "metadata": {
        "id": "FI-zMqeJWBSK"
      },
      "execution_count": null,
      "outputs": []
    },
    {
      "cell_type": "code",
      "source": [
        "train_dataset"
      ],
      "metadata": {
        "colab": {
          "base_uri": "https://localhost:8080/"
        },
        "id": "KcksXiNbXD7z",
        "outputId": "fc9d55d0-dc33-482a-bd69-1ad819be3912"
      },
      "execution_count": null,
      "outputs": [
        {
          "output_type": "execute_result",
          "data": {
            "text/plain": [
              "<_PrefetchDataset element_spec=(TensorSpec(shape=(None,), dtype=tf.string, name=None), TensorSpec(shape=(None, 5), dtype=tf.float64, name=None))>"
            ]
          },
          "metadata": {},
          "execution_count": 43
        }
      ]
    },
    {
      "cell_type": "markdown",
      "source": [
        "### Model 1: Conv1D with token embedding"
      ],
      "metadata": {
        "id": "0-ppj3lxXjbL"
      }
    },
    {
      "cell_type": "code",
      "source": [
        "from tensorflow.keras.layers import Input, Dense, Conv1D, GlobalAveragePooling1D, Embedding, Dropout\n",
        "from tensorflow.keras.models import Model\n",
        "\n",
        "inputs = Input(shape=(1,), dtype='string')\n",
        "x = text_vectorizer(inputs)\n",
        "x = token_embed(x)\n",
        "x = Conv1D(filters=64, kernel_size=5, padding='same', activation='relu')(x)\n",
        "x = GlobalAveragePooling1D()(x)\n",
        "x = Dense(128, activation='relu')(x)\n",
        "x = Dropout(0.5)(x)\n",
        "outputs = Dense(num_classes, activation='softmax')(x)\n",
        "model_1 = Model(inputs, outputs, name='model_1_conv1d')"
      ],
      "metadata": {
        "id": "c2KHxZrsXJBS"
      },
      "execution_count": null,
      "outputs": []
    },
    {
      "cell_type": "code",
      "source": [
        "model_1.compile(loss='categorical_crossentropy',\n",
        "                optimizer=tf.keras.optimizers.Adam(),\n",
        "                metrics=['accuracy'])"
      ],
      "metadata": {
        "id": "c26GUW21Ypi5"
      },
      "execution_count": null,
      "outputs": []
    },
    {
      "cell_type": "code",
      "source": [
        "model_1_history = model_1.fit(train_dataset,\n",
        "                              epochs=5,\n",
        "                              validation_data=valid_dataset,\n",
        "                              validation_steps=int(0.15 * len(valid_dataset)),\n",
        "                              steps_per_epoch=int(0.6 * len(train_dataset)))"
      ],
      "metadata": {
        "colab": {
          "base_uri": "https://localhost:8080/"
        },
        "id": "I-iMLjMVYyVw",
        "outputId": "80c48588-9ea7-43e2-89dd-0460716d6218"
      },
      "execution_count": null,
      "outputs": [
        {
          "output_type": "stream",
          "name": "stdout",
          "text": [
            "Epoch 1/5\n",
            "567/567 [==============================] - 31s 53ms/step - loss: 0.9384 - accuracy: 0.6051 - val_loss: 0.6884 - val_accuracy: 0.7258\n",
            "Epoch 2/5\n",
            "377/567 [==================>...........] - ETA: 10s - loss: 0.7014 - accuracy: 0.7257"
          ]
        },
        {
          "output_type": "stream",
          "name": "stderr",
          "text": [
            "WARNING:tensorflow:Your input ran out of data; interrupting training. Make sure that your dataset or generator can generate at least `steps_per_epoch * epochs` batches (in this case, 2835 batches). You may need to use the repeat() function when building your dataset.\n"
          ]
        },
        {
          "output_type": "stream",
          "name": "stdout",
          "text": [
            "\b\b\b\b\b\b\b\b\b\b\b\b\b\b\b\b\b\b\b\b\b\b\b\b\b\b\b\b\b\b\b\b\b\b\b\b\b\b\b\b\b\b\b\b\b\b\b\b\b\b\b\b\b\b\b\b\b\b\b\b\b\b\b\b\b\b\b\b\b\b\b\b\b\b\b\b\b\b\b\b\b\b\b\b\b\r567/567 [==============================] - 22s 39ms/step - loss: 0.7013 - accuracy: 0.7258 - val_loss: 0.6359 - val_accuracy: 0.7520\n"
          ]
        }
      ]
    },
    {
      "cell_type": "code",
      "source": [
        "model_1_preds = model_1.predict(valid_dataset)"
      ],
      "metadata": {
        "colab": {
          "base_uri": "https://localhost:8080/"
        },
        "id": "hOqi7e7ZadkR",
        "outputId": "77803f95-1d17-48d1-a625-0a13387149d4"
      },
      "execution_count": null,
      "outputs": [
        {
          "output_type": "stream",
          "name": "stdout",
          "text": [
            "942/942 [==============================] - 5s 5ms/step\n"
          ]
        }
      ]
    },
    {
      "cell_type": "code",
      "source": [
        "model_1_preds"
      ],
      "metadata": {
        "colab": {
          "base_uri": "https://localhost:8080/"
        },
        "id": "x5iLOjoDauGn",
        "outputId": "46facd30-7a1d-4dcc-e8ca-c75785c84e27"
      },
      "execution_count": null,
      "outputs": [
        {
          "output_type": "execute_result",
          "data": {
            "text/plain": [
              "array([[3.8745075e-01, 1.4641698e-01, 1.1082184e-01, 3.3943895e-01,\n",
              "        1.5871532e-02],\n",
              "       [9.1511428e-02, 2.8431429e-02, 7.0504928e-01, 1.5581231e-01,\n",
              "        1.9195609e-02],\n",
              "       [3.0321913e-04, 6.5925031e-04, 9.2470974e-01, 2.5562115e-04,\n",
              "        7.4072219e-02],\n",
              "       ...,\n",
              "       [1.8345440e-03, 5.5144127e-02, 3.4527216e-02, 5.7707110e-04,\n",
              "        9.0791708e-01],\n",
              "       [6.5890662e-03, 6.1160944e-02, 6.9782972e-02, 1.6528671e-03,\n",
              "        8.6081415e-01],\n",
              "       [2.8578026e-02, 5.0379276e-01, 2.8662464e-02, 1.6559998e-02,\n",
              "        4.2240679e-01]], dtype=float32)"
            ]
          },
          "metadata": {},
          "execution_count": 48
        }
      ]
    },
    {
      "cell_type": "code",
      "source": [
        "model_1_preds_classes = tf.argmax(model_1_preds, axis=1)\n",
        "model_1_preds_classes"
      ],
      "metadata": {
        "colab": {
          "base_uri": "https://localhost:8080/"
        },
        "id": "Bph6-rqXa12_",
        "outputId": "15c5a976-40c2-42a1-9840-3025227b6cb8"
      },
      "execution_count": null,
      "outputs": [
        {
          "output_type": "execute_result",
          "data": {
            "text/plain": [
              "<tf.Tensor: shape=(30135,), dtype=int64, numpy=array([0, 2, 2, ..., 4, 4, 1])>"
            ]
          },
          "metadata": {},
          "execution_count": 49
        }
      ]
    },
    {
      "cell_type": "code",
      "source": [
        "model_1_results = calculate_results(y_true=val_labels_encoded,\n",
        "                                      y_pred=model_1_preds_classes)\n",
        "model_1_results"
      ],
      "metadata": {
        "colab": {
          "base_uri": "https://localhost:8080/"
        },
        "id": "1QBbAnqsa9O_",
        "outputId": "0406d17d-c1e2-49e8-cbd3-70ce0e050b74"
      },
      "execution_count": null,
      "outputs": [
        {
          "output_type": "execute_result",
          "data": {
            "text/plain": [
              "{'accuracy': 75.0854488136718,\n",
              " 'precision': 0.7463680847919892,\n",
              " 'recall': 0.7508544881367181,\n",
              " 'f1': 0.7479694922502667}"
            ]
          },
          "metadata": {},
          "execution_count": 50
        }
      ]
    },
    {
      "cell_type": "markdown",
      "source": [
        "### Model 2: Feature extraction with pretrained token embedding"
      ],
      "metadata": {
        "id": "YsUfaWlxc-lP"
      }
    },
    {
      "cell_type": "code",
      "source": [
        "import tensorflow_hub as hub\n",
        "\n",
        "embedding_layer = hub.KerasLayer('https://www.kaggle.com/models/google/universal-sentence-encoder/TensorFlow2/universal-sentence-encoder/2',\n",
        "                                  trainable=False,\n",
        "                                  name='universal_sentence_encoder')"
      ],
      "metadata": {
        "id": "nU2DRNmUcpMv"
      },
      "execution_count": null,
      "outputs": []
    },
    {
      "cell_type": "code",
      "source": [
        "# show the example of pretrained embedding layer\n",
        "embedding_layer([random_sentence]), embedding_layer([random_sentence]).shape"
      ],
      "metadata": {
        "colab": {
          "base_uri": "https://localhost:8080/"
        },
        "id": "PQhvngwed3O0",
        "outputId": "d8149809-15c1-4680-c06b-130f7120fb76"
      },
      "execution_count": null,
      "outputs": [
        {
          "output_type": "execute_result",
          "data": {
            "text/plain": [
              "(<tf.Tensor: shape=(1, 512), dtype=float32, numpy=\n",
              " array([[ 0.07609636,  0.04818064, -0.04861105, -0.04891174, -0.0396698 ,\n",
              "          0.03704177, -0.06056895, -0.0314285 , -0.07699487,  0.00180255,\n",
              "          0.05523098,  0.05251399,  0.02575087, -0.01836486,  0.00594799,\n",
              "         -0.05409911, -0.08052291, -0.04682371,  0.05228481,  0.0165302 ,\n",
              "          0.07120072, -0.02443016,  0.03304237,  0.02141403, -0.03611059,\n",
              "          0.03691307,  0.05304804,  0.07491252,  0.00321516,  0.01779241,\n",
              "          0.05754081,  0.02267117,  0.02693938, -0.0212906 , -0.02033716,\n",
              "         -0.03718795, -0.00573815, -0.06370968,  0.08198627, -0.01580137,\n",
              "         -0.05504661,  0.01148763, -0.05738477, -0.0116011 , -0.04321822,\n",
              "         -0.04702357,  0.01052607, -0.05832693,  0.02691469, -0.01341154,\n",
              "          0.0116087 ,  0.07341028,  0.05279656,  0.01380245, -0.00902109,\n",
              "         -0.04180486, -0.02380744,  0.03818698, -0.01322383, -0.00479836,\n",
              "          0.02975138, -0.07139466, -0.07432623, -0.02997192,  0.04588893,\n",
              "         -0.05617905,  0.009952  ,  0.05860499,  0.00175753, -0.01565997,\n",
              "          0.06438071,  0.02913274,  0.06707521, -0.01070789, -0.03370474,\n",
              "          0.04864689, -0.0512211 , -0.01784076,  0.04089718, -0.02663133,\n",
              "          0.07879929,  0.01544376,  0.04647368,  0.07330941, -0.03371754,\n",
              "         -0.01116078,  0.02601455, -0.07705146,  0.00409435, -0.07070055,\n",
              "          0.00056193, -0.03889368,  0.04516023,  0.07629711,  0.00733614,\n",
              "         -0.03808667, -0.0712449 , -0.02416952, -0.01185422,  0.03953102,\n",
              "         -0.01230543, -0.00171086,  0.06607196,  0.05880749,  0.04876227,\n",
              "         -0.00963608,  0.01503141,  0.01093627, -0.05559181, -0.01519254,\n",
              "          0.08131889,  0.02557372,  0.03158446, -0.00227227,  0.04125611,\n",
              "         -0.03477836, -0.06373254,  0.06725923, -0.06474708, -0.00301242,\n",
              "          0.07588119,  0.02980624,  0.00601998, -0.06033409,  0.05299504,\n",
              "          0.07047625,  0.05373753, -0.00673544,  0.00727898,  0.02458848,\n",
              "          0.01516812,  0.0666801 ,  0.02117867,  0.05666627,  0.04998396,\n",
              "         -0.02212461, -0.03876818, -0.0379011 , -0.00175341, -0.03352695,\n",
              "          0.02419343,  0.06065794, -0.01263846, -0.06201233,  0.02320937,\n",
              "         -0.0177749 ,  0.00508814,  0.03629551,  0.03905862,  0.028214  ,\n",
              "          0.01725664,  0.00348693,  0.03072497, -0.02268198, -0.03154141,\n",
              "          0.07151445, -0.03064439,  0.02911046,  0.02154536,  0.0019746 ,\n",
              "         -0.07835785,  0.0543985 ,  0.01483038,  0.00850042,  0.01766897,\n",
              "         -0.0669366 , -0.03328849, -0.03192043, -0.01960635,  0.01898896,\n",
              "         -0.02995362, -0.0748248 ,  0.02279019,  0.07007239,  0.03663303,\n",
              "         -0.06965628, -0.0614224 , -0.03212204,  0.041873  ,  0.08477528,\n",
              "          0.02272399,  0.01209971,  0.07721029, -0.07210073,  0.06895398,\n",
              "         -0.0398037 ,  0.01354499,  0.0200751 , -0.01097188, -0.03652311,\n",
              "          0.0514463 , -0.02798215,  0.00767865, -0.05624701,  0.01597995,\n",
              "         -0.01879998,  0.01783339, -0.0322748 ,  0.04831686, -0.01019816,\n",
              "          0.03279293, -0.01173146,  0.02021046,  0.05179551,  0.04799703,\n",
              "         -0.02555295,  0.03717655,  0.04156907,  0.0404029 , -0.02985309,\n",
              "          0.04400485,  0.05409548,  0.01927919,  0.05749359,  0.06582763,\n",
              "         -0.00451803,  0.01390738, -0.01256427,  0.01238874, -0.04363254,\n",
              "         -0.03096409,  0.02137076, -0.03294782, -0.07756378,  0.04127685,\n",
              "         -0.03832558,  0.02511772,  0.05660391,  0.03128419,  0.04875727,\n",
              "          0.08483303,  0.04184066, -0.05478062,  0.0250897 ,  0.03145025,\n",
              "          0.03670724, -0.06565683, -0.00281022,  0.01392941,  0.03810473,\n",
              "          0.05174979, -0.01635215, -0.05216656, -0.02828086, -0.08552469,\n",
              "          0.03747093, -0.01870215, -0.01387442,  0.04734907, -0.02767021,\n",
              "          0.06638911,  0.03200696, -0.05410729, -0.0077102 , -0.0807749 ,\n",
              "         -0.03154493, -0.04796119, -0.04110401,  0.07214313,  0.05265478,\n",
              "          0.03536346, -0.03959586, -0.02958347, -0.03941961,  0.00477988,\n",
              "         -0.02029905, -0.07047586, -0.0420157 ,  0.06139151,  0.03072165,\n",
              "          0.01520368, -0.05060276,  0.04010491,  0.01125155, -0.00146995,\n",
              "          0.00233663, -0.00806318, -0.0378359 , -0.06652241, -0.06682941,\n",
              "         -0.08443692, -0.0596067 ,  0.01538512,  0.02995579,  0.06354553,\n",
              "         -0.04272291,  0.0522113 , -0.0245634 , -0.05475609,  0.02118162,\n",
              "         -0.04215523,  0.03882299, -0.03080719,  0.03028886,  0.05664294,\n",
              "          0.04614467, -0.05963824, -0.08248409,  0.00225156,  0.01811826,\n",
              "         -0.04943383,  0.04176136,  0.05325213,  0.05526285,  0.04167675,\n",
              "          0.03153171,  0.03905576, -0.01742736,  0.02792975, -0.02791817,\n",
              "          0.03544062, -0.03282429,  0.02350496,  0.04607401, -0.00112228,\n",
              "          0.0180889 ,  0.04728992, -0.02363486,  0.0719927 ,  0.05931939,\n",
              "         -0.01098951, -0.04928041,  0.02738344, -0.00514281,  0.06168623,\n",
              "          0.06503129, -0.05525693, -0.03088662,  0.03723729, -0.03193088,\n",
              "          0.00840373, -0.03127889,  0.03676356, -0.01344029,  0.00227145,\n",
              "         -0.02525831, -0.01508303,  0.06255898,  0.07209081,  0.02403348,\n",
              "         -0.03668381, -0.02424073,  0.00405162,  0.02638211,  0.03602363,\n",
              "         -0.07777114,  0.0650399 ,  0.02752531, -0.05750855, -0.06069753,\n",
              "         -0.05513071,  0.05965434,  0.00270194, -0.05275769,  0.06744915,\n",
              "         -0.02341076, -0.00651452, -0.05965145,  0.08073977, -0.08175367,\n",
              "         -0.04271903,  0.07072509, -0.06662551, -0.04855319, -0.06503141,\n",
              "          0.03583601,  0.02426376,  0.0008914 ,  0.02018295, -0.04171399,\n",
              "          0.04251059,  0.04292319, -0.02159747,  0.05292301,  0.02512891,\n",
              "          0.02814219, -0.05706374,  0.0128159 , -0.00673789,  0.02311852,\n",
              "         -0.02587887,  0.07551125,  0.07430609, -0.08151177, -0.07844558,\n",
              "         -0.03213252, -0.03273289, -0.05974409, -0.04681638,  0.00037791,\n",
              "         -0.00701407,  0.04739391, -0.04832482, -0.02204876, -0.0418803 ,\n",
              "          0.08420911,  0.00283691, -0.08143046,  0.06410932,  0.0033783 ,\n",
              "         -0.02853572, -0.01299142,  0.02452449, -0.02307371,  0.04345278,\n",
              "          0.02417439,  0.01475554,  0.04239821,  0.03481248,  0.05941784,\n",
              "         -0.05491775, -0.01615709, -0.037802  , -0.08218712, -0.0546395 ,\n",
              "          0.02114276,  0.01930181,  0.00616853, -0.07047229,  0.02487997,\n",
              "          0.01646764, -0.03451587,  0.04809314, -0.04367989,  0.0582714 ,\n",
              "         -0.08136814,  0.07951688,  0.06428605,  0.01499737,  0.05957569,\n",
              "         -0.06053818,  0.03554596, -0.0098164 , -0.07177244, -0.00988528,\n",
              "          0.03656662,  0.01701899, -0.06730495,  0.04867642,  0.08567275,\n",
              "          0.02441667,  0.03184949,  0.02542112, -0.05040489,  0.01251307,\n",
              "         -0.0700269 ,  0.02655215,  0.06756945, -0.02800421, -0.0270574 ,\n",
              "         -0.05850154, -0.02438565, -0.03476256,  0.03918854,  0.04509621,\n",
              "         -0.01677174,  0.01626459, -0.06926471, -0.05863414,  0.07336275,\n",
              "         -0.03582238,  0.06151246,  0.04737084, -0.03572022,  0.06549301,\n",
              "         -0.02845189, -0.02749095,  0.04321826,  0.00482648, -0.05573777,\n",
              "          0.05171404,  0.02491731, -0.07010926,  0.07402794,  0.04694378,\n",
              "         -0.01718894, -0.06198186,  0.03462647, -0.05446523,  0.01532791,\n",
              "          0.04882793, -0.03438107, -0.06902765,  0.0196223 ,  0.00212376,\n",
              "          0.07100706, -0.00091916,  0.03226078,  0.03886424, -0.03046478,\n",
              "         -0.01767011, -0.00417755,  0.00349107, -0.00525133, -0.01039695,\n",
              "          0.00780062, -0.04539192, -0.05773501,  0.06216295, -0.05287503,\n",
              "         -0.03598557, -0.02399011,  0.0078887 , -0.01218364, -0.01788376,\n",
              "         -0.06990371, -0.06536735,  0.0860313 , -0.01381087, -0.02053783,\n",
              "         -0.01413666, -0.04868578]], dtype=float32)>,\n",
              " TensorShape([1, 512]))"
            ]
          },
          "metadata": {},
          "execution_count": 52
        }
      ]
    },
    {
      "cell_type": "code",
      "source": [
        "inputs = Input(shape=[], dtype='string')\n",
        "x = embedding_layer(inputs)\n",
        "x = Dense(128, activation='relu')(x)\n",
        "x = Dropout(0.5)(x)\n",
        "outputs = Dense(num_classes, activation='softmax')(x)\n",
        "model_2 = Model(inputs, outputs, name='model_2_pretrained_embedding')"
      ],
      "metadata": {
        "id": "Wy_M3IMhe8le"
      },
      "execution_count": null,
      "outputs": []
    },
    {
      "cell_type": "code",
      "source": [
        "model_2.compile(loss='categorical_crossentropy',\n",
        "                optimizer=tf.keras.optimizers.Adam(),\n",
        "                metrics=['accuracy'])"
      ],
      "metadata": {
        "id": "g_QTluZmiAlU"
      },
      "execution_count": null,
      "outputs": []
    },
    {
      "cell_type": "code",
      "source": [
        "model_2_history = model_2.fit(train_dataset,\n",
        "                              epochs=5,\n",
        "                              validation_data=valid_dataset,\n",
        "                              validation_steps=int(0.15 * len(valid_dataset)))"
      ],
      "metadata": {
        "colab": {
          "base_uri": "https://localhost:8080/"
        },
        "id": "J3cJzWFtiKxv",
        "outputId": "cd12e164-e7b2-4fdb-95c6-5c523c9632a8"
      },
      "execution_count": null,
      "outputs": [
        {
          "output_type": "stream",
          "name": "stdout",
          "text": [
            "Epoch 1/5\n",
            "945/945 [==============================] - 13s 11ms/step - loss: 0.9062 - accuracy: 0.6484 - val_loss: 0.7911 - val_accuracy: 0.6973\n",
            "Epoch 2/5\n",
            "945/945 [==============================] - 15s 16ms/step - loss: 0.7745 - accuracy: 0.7021 - val_loss: 0.7564 - val_accuracy: 0.7070\n",
            "Epoch 3/5\n",
            "945/945 [==============================] - 11s 12ms/step - loss: 0.7396 - accuracy: 0.7178 - val_loss: 0.7344 - val_accuracy: 0.7183\n",
            "Epoch 4/5\n",
            "945/945 [==============================] - 8s 9ms/step - loss: 0.7113 - accuracy: 0.7282 - val_loss: 0.7153 - val_accuracy: 0.7272\n",
            "Epoch 5/5\n",
            "945/945 [==============================] - 8s 9ms/step - loss: 0.6907 - accuracy: 0.7368 - val_loss: 0.7043 - val_accuracy: 0.7281\n"
          ]
        }
      ]
    },
    {
      "cell_type": "code",
      "source": [
        "model_2_preds = model_2.predict(valid_dataset)\n",
        "model_2_preds = tf.argmax(model_2_preds, axis=1)\n",
        "model_2_results = calculate_results(y_true=val_labels_encoded,\n",
        "                                      y_pred=model_2_preds)\n",
        "model_2_results"
      ],
      "metadata": {
        "colab": {
          "base_uri": "https://localhost:8080/"
        },
        "id": "y6zJK5JrifFJ",
        "outputId": "b6f26f6a-3613-4040-bb21-fea2e397b383"
      },
      "execution_count": null,
      "outputs": [
        {
          "output_type": "stream",
          "name": "stdout",
          "text": [
            "942/942 [==============================] - 8s 8ms/step\n"
          ]
        },
        {
          "output_type": "execute_result",
          "data": {
            "text/plain": [
              "{'accuracy': 72.8953044632487,\n",
              " 'precision': 0.7262308318879728,\n",
              " 'recall': 0.7289530446324871,\n",
              " 'f1': 0.7263649199411802}"
            ]
          },
          "metadata": {},
          "execution_count": 56
        }
      ]
    },
    {
      "cell_type": "code",
      "source": [
        "model_1_results"
      ],
      "metadata": {
        "colab": {
          "base_uri": "https://localhost:8080/"
        },
        "id": "Gzf4F_zMkeeK",
        "outputId": "67c6a38b-9eb2-4fb8-a73e-a9eb33070e4f"
      },
      "execution_count": null,
      "outputs": [
        {
          "output_type": "execute_result",
          "data": {
            "text/plain": [
              "{'accuracy': 75.0854488136718,\n",
              " 'precision': 0.7463680847919892,\n",
              " 'recall': 0.7508544881367181,\n",
              " 'f1': 0.7479694922502667}"
            ]
          },
          "metadata": {},
          "execution_count": 57
        }
      ]
    },
    {
      "cell_type": "markdown",
      "source": [
        "### Model 3: Conv1D with character embeddings"
      ],
      "metadata": {
        "id": "Pjm40YxkpWqz"
      }
    },
    {
      "cell_type": "code",
      "source": [
        "def split_chars(text):\n",
        "  return ' '.join(list(text))"
      ],
      "metadata": {
        "id": "O3-yMAa2rWf1"
      },
      "execution_count": null,
      "outputs": []
    },
    {
      "cell_type": "code",
      "source": [
        "train_chars = [split_chars(text) for text in train_sentences]\n",
        "val_chars = [split_chars(text) for text in val_sentences]\n",
        "test_chars = [split_chars(text) for text in test_sentences]\n",
        "train_chars = np.array(train_chars).reshape(-1, 1)\n",
        "val_chars = np.array(val_chars).reshape(-1, 1)"
      ],
      "metadata": {
        "id": "xGGlZ8LnrfdH"
      },
      "execution_count": null,
      "outputs": []
    },
    {
      "cell_type": "code",
      "source": [
        "train_chars[:5]"
      ],
      "metadata": {
        "colab": {
          "base_uri": "https://localhost:8080/"
        },
        "id": "zGY2P7KRrquf",
        "outputId": "7bb8b630-b3bf-4a7d-aeb1-2a5f75752ee4"
      },
      "execution_count": null,
      "outputs": [
        {
          "output_type": "execute_result",
          "data": {
            "text/plain": [
              "array([['i g e   s e n s i t i z a t i o n   t o   a s p e r g i l l u s   f u m i g a t u s   a n d   a   p o s i t i v e   s p u t u m   f u n g a l   c u l t u r e   r e s u l t   a r e   c o m m o n   i n   p a t i e n t s   w i t h   r e f r a c t o r y   a s t h m a   .'],\n",
              "       ['i t   i s   n o t   c l e a r   w h e t h e r   t h e s e   p a t i e n t s   w o u l d   b e n e f i t   f r o m   a n t i f u n g a l   t r e a t m e n t   .'],\n",
              "       ['w e   s o u g h t   t o   d e t e r m i n e   w h e t h e r   a   @ - m o n t h   c o u r s e   o f   v o r i c o n a z o l e   i m p r o v e d   a s t h m a - r e l a t e d   o u t c o m e s   i n   p a t i e n t s   w i t h   a s t h m a   w h o   a r e   i g e   s e n s i t i z e d   t o   a   f u m i g a t u s   .'],\n",
              "       ['a s t h m a t i c   p a t i e n t s   w h o   w e r e   i g e   s e n s i t i z e d   t o   a   f u m i g a t u s   w i t h   a   h i s t o r y   o f   a t   l e a s t   @   s e v e r e   e x a c e r b a t i o n s   i n   t h e   p r e v i o u s   @   m o n t h s   w e r e   t r e a t e d   f o r   @   m o n t h s   w i t h   @   m g   o f   v o r i c o n a z o l e   t w i c e   d a i l y   ,   f o l l o w e d   b y   o b s e r v a t i o n   f o r   @   m o n t h s   ,   i n   a   d o u b l e - b l i n d   ,   p l a c e b o - c o n t r o l l e d   ,   r a n d o m i z e d   d e s i g n   .'],\n",
              "       ['p r i m a r y   o u t c o m e s   w e r e   i m p r o v e m e n t   i n   q u a l i t y   o f   l i f e   a t   t h e   e n d   o f   t h e   t r e a t m e n t   p e r i o d   a n d   a   r e d u c t i o n   i n   t h e   n u m b e r   o f   s e v e r e   e x a c e r b a t i o n s   o v e r   t h e   @   m o n t h s   o f   t h e   s t u d y   .']],\n",
              "      dtype='<U2175')"
            ]
          },
          "metadata": {},
          "execution_count": 110
        }
      ]
    },
    {
      "cell_type": "code",
      "source": [
        "# What's the average character length?\n",
        "chars_lens = [len(str(char[0]).split()) for char in train_chars]\n",
        "avg_chars_len = np.mean(chars_lens)\n",
        "print(avg_chars_len)"
      ],
      "metadata": {
        "colab": {
          "base_uri": "https://localhost:8080/"
        },
        "id": "_t-bKnTKrsEP",
        "outputId": "b95e2382-ace8-498a-dd08-30b911fe9776"
      },
      "execution_count": null,
      "outputs": [
        {
          "output_type": "stream",
          "name": "stdout",
          "text": [
            "123.76866807890904\n"
          ]
        }
      ]
    },
    {
      "cell_type": "code",
      "source": [
        "# Check the distribution\n",
        "plt.hist(chars_lens, bins=50)\n",
        "plt.xlabel('Character length')\n",
        "plt.ylabel('Frequency')\n",
        "plt.title('Character length distribution')"
      ],
      "metadata": {
        "colab": {
          "base_uri": "https://localhost:8080/",
          "height": 489
        },
        "id": "tZGz460TsBtJ",
        "outputId": "4ea0b7b3-f578-41f8-cc64-cb93085bcf39"
      },
      "execution_count": null,
      "outputs": [
        {
          "output_type": "execute_result",
          "data": {
            "text/plain": [
              "Text(0.5, 1.0, 'Character length distribution')"
            ]
          },
          "metadata": {},
          "execution_count": 119
        },
        {
          "output_type": "display_data",
          "data": {
            "text/plain": [
              "<Figure size 640x480 with 1 Axes>"
            ],
            "image/png": "[encoded data removed]"
          },
          "metadata": {}
        }
      ]
    },
    {
      "cell_type": "code",
      "source": [
        "output_seq_char_len = int(np.percentile(chars_lens, 95))\n",
        "output_seq_char_len"
      ],
      "metadata": {
        "colab": {
          "base_uri": "https://localhost:8080/"
        },
        "id": "UsmRt7k9sbnS",
        "outputId": "ce8f36d4-4460-4138-bc6c-5651d658b0da"
      },
      "execution_count": null,
      "outputs": [
        {
          "output_type": "execute_result",
          "data": {
            "text/plain": [
              "240"
            ]
          },
          "metadata": {},
          "execution_count": 120
        }
      ]
    },
    {
      "cell_type": "code",
      "source": [
        "# Get all keyboard character\n",
        "import string\n",
        "alphabet = string.ascii_lowercase + string.digits + string.punctuation + ' '\n",
        "alphabet"
      ],
      "metadata": {
        "colab": {
          "base_uri": "https://localhost:8080/",
          "height": 36
        },
        "id": "iKk-hMwvsoFm",
        "outputId": "ea56a74e-9615-4c5d-ea4c-0966ba88f2ff"
      },
      "execution_count": null,
      "outputs": [
        {
          "output_type": "execute_result",
          "data": {
            "text/plain": [
              "'abcdefghijklmnopqrstuvwxyz0123456789!\"#$%&\\'()*+,-./:;<=>?@[\\\\]^_`{|}~ '"
            ],
            "application/vnd.google.colaboratory.intrinsic+json": {
              "type": "string"
            }
          },
          "metadata": {},
          "execution_count": 121
        }
      ]
    },
    {
      "cell_type": "code",
      "source": [
        "num_char_tokens = len(alphabet)\n",
        "char_vectorizer = TextVectorization(max_tokens=num_char_tokens,\n",
        "                                    output_sequence_length=output_seq_char_len,\n",
        "                                    name='char_vectorizer')\n",
        "char_vectorizer.adapt(train_chars)"
      ],
      "metadata": {
        "id": "lsJk6y8-tUO8"
      },
      "execution_count": null,
      "outputs": []
    },
    {
      "cell_type": "code",
      "source": [
        "char_vocab = char_vectorizer.get_vocabulary()\n",
        "char_vocab[:5]"
      ],
      "metadata": {
        "colab": {
          "base_uri": "https://localhost:8080/"
        },
        "id": "jUJRYr4-tysZ",
        "outputId": "b9d9259b-ea16-4e78-b178-61375d857866"
      },
      "execution_count": null,
      "outputs": [
        {
          "output_type": "execute_result",
          "data": {
            "text/plain": [
              "['', '[UNK]', 'e', 't', 'i']"
            ]
          },
          "metadata": {},
          "execution_count": 123
        }
      ]
    },
    {
      "cell_type": "code",
      "source": [
        "len(char_vocab), len(alphabet)"
      ],
      "metadata": {
        "colab": {
          "base_uri": "https://localhost:8080/"
        },
        "id": "51SE97cFvJtI",
        "outputId": "bdfb1d7a-a46f-4173-f130-eeeadd2d9358"
      },
      "execution_count": null,
      "outputs": [
        {
          "output_type": "execute_result",
          "data": {
            "text/plain": [
              "(28, 69)"
            ]
          },
          "metadata": {},
          "execution_count": 124
        }
      ]
    },
    {
      "cell_type": "code",
      "source": [
        "# Create an embedding\n",
        "char_embed = tf.keras.layers.Embedding(\n",
        "    input_dim=len(char_vocab),\n",
        "    output_dim=25,\n",
        "    mask_zero=True,\n",
        "    name='char_embedding'\n",
        ")"
      ],
      "metadata": {
        "id": "lZKu5SWMt97o"
      },
      "execution_count": null,
      "outputs": []
    },
    {
      "cell_type": "code",
      "source": [
        "inputs = Input(shape=(1,), dtype='string')\n",
        "x = char_vectorizer(inputs)\n",
        "x = char_embed(x)\n",
        "x = Conv1D(filters=64, kernel_size=5, padding='same', activation='relu')(x)\n",
        "x = tf.keras.layers.GlobalMaxPooling1D()(x)\n",
        "x = Dense(128, activation='relu')(x)\n",
        "x = Dropout(0.5)(x)\n",
        "outputs = Dense(num_classes, activation='softmax')(x)\n",
        "model_3 = Model(inputs, outputs, name='model_3_char_embedding')"
      ],
      "metadata": {
        "id": "BgpGyvvuvcDJ"
      },
      "execution_count": null,
      "outputs": []
    },
    {
      "cell_type": "code",
      "source": [
        "model_3.compile(loss='categorical_crossentropy',\n",
        "                optimizer=tf.keras.optimizers.Adam(),\n",
        "\n",
        "                metrics=['accuracy'])"
      ],
      "metadata": {
        "id": "hPFQ9jTUwKat"
      },
      "execution_count": null,
      "outputs": []
    },
    {
      "cell_type": "code",
      "source": [
        "# Create char level dataset\n",
        "train_char_dataset = tf.data.Dataset.from_tensor_slices((train_chars, train_labels_one_hot)).batch(32).prefetch(tf.data.AUTOTUNE)\n",
        "valid_char_dataset = tf.data.Dataset.from_tensor_slices((val_chars, val_labels_one_hot)).batch(32).prefetch(tf.data.AUTOTUNE)\n",
        "\n",
        "test_char_dataset = tf.data.Dataset.from_tensor_slices((test_chars, test_labels_one_hot)).batch(32).prefetch(tf.data.AUTOTUNE)"
      ],
      "metadata": {
        "id": "hHkYHi5dwU87"
      },
      "execution_count": null,
      "outputs": []
    },
    {
      "cell_type": "code",
      "source": [
        "model_3_history = model_3.fit(train_char_dataset,\n",
        "                              epochs=5,\n",
        "                              validation_data=valid_char_dataset,\n",
        "\n",
        "                              validation_steps=int(0.15 * len(valid_char_dataset)))"
      ],
      "metadata": {
        "colab": {
          "base_uri": "https://localhost:8080/"
        },
        "id": "mgAWRx8GwlOZ",
        "outputId": "4c688cc8-fc6e-4b67-8685-daa8b9139dcf"
      },
      "execution_count": null,
      "outputs": [
        {
          "output_type": "stream",
          "name": "stdout",
          "text": [
            "Epoch 1/5\n",
            "945/945 [==============================] - 14s 14ms/step - loss: 1.1792 - accuracy: 0.5005 - val_loss: 0.9839 - val_accuracy: 0.6024\n",
            "Epoch 2/5\n",
            "945/945 [==============================] - 13s 14ms/step - loss: 0.9391 - accuracy: 0.6216 - val_loss: 0.9234 - val_accuracy: 0.6299\n",
            "Epoch 3/5\n",
            "945/945 [==============================] - 13s 14ms/step - loss: 0.8655 - accuracy: 0.6546 - val_loss: 0.8919 - val_accuracy: 0.6438\n",
            "Epoch 4/5\n",
            "945/945 [==============================] - 13s 14ms/step - loss: 0.8192 - accuracy: 0.6761 - val_loss: 0.8588 - val_accuracy: 0.6627\n",
            "Epoch 5/5\n",
            "945/945 [==============================] - 14s 15ms/step - loss: 0.7889 - accuracy: 0.6894 - val_loss: 0.8355 - val_accuracy: 0.6724\n"
          ]
        }
      ]
    },
    {
      "cell_type": "code",
      "source": [
        "model_3_preds = model_3.predict(valid_char_dataset)\n",
        "model_3_preds = tf.argmax(model_3_preds, axis=1)\n",
        "model_3_results = calculate_results(y_true=val_labels_encoded,\n",
        "                                      y_pred=model_3_preds)\n",
        "\n",
        "model_3_results"
      ],
      "metadata": {
        "colab": {
          "base_uri": "https://localhost:8080/"
        },
        "id": "MshwxyH6xB5h",
        "outputId": "93890b34-d1a2-445a-e2bb-c1c3ba4be9ca"
      },
      "execution_count": null,
      "outputs": [
        {
          "output_type": "stream",
          "name": "stdout",
          "text": [
            "942/942 [==============================] - 4s 4ms/step\n"
          ]
        },
        {
          "output_type": "execute_result",
          "data": {
            "text/plain": [
              "{'accuracy': 66.50738344118136,\n",
              " 'precision': 0.6901105651932414,\n",
              " 'recall': 0.6650738344118136,\n",
              " 'f1': 0.6660320956184371}"
            ]
          },
          "metadata": {},
          "execution_count": 132
        }
      ]
    },
    {
      "cell_type": "markdown",
      "source": [
        "### Model 4: Combining pretrained token embedding with character embedding"
      ],
      "metadata": {
        "id": "I7XVgk3Lyq2m"
      }
    },
    {
      "cell_type": "code",
      "source": [
        "token_inputs = Input(shape=[], dtype='string')\n",
        "token_embedding = embedding_layer(token_inputs)\n",
        "token_output = Dense(128, activation='relu')(token_embedding)\n",
        "token_model = Model(token_inputs, token_output)\n",
        "\n",
        "char_inputs = Input(shape=(1,), dtype='string')\n",
        "char_vectors = char_vectorizer(char_inputs)\n",
        "char_embedding = char_embed(char_vectors)\n",
        "char_bi_lstm = tf.keras.layers.Bidirectional(tf.keras.layers.LSTM(32))(char_embedding)\n",
        "char_output = Dense(128, activation='relu')(char_bi_lstm)\n",
        "char_model = Model(char_inputs, char_output)\n",
        "\n",
        "token_char_concat = tf.keras.layers.Concatenate()([token_model.output, char_model.output])\n",
        "x = Dropout(0.5)(token_char_concat)\n",
        "x = Dense(128, activation='relu')(x)\n",
        "x = Dropout(0.5)(x)\n",
        "outputs = Dense(num_classes, activation='softmax')(x)\n",
        "model_4 = Model([token_model.input, char_model.input], outputs, name='model_4_token_char_embedding')"
      ],
      "metadata": {
        "id": "z_EZ5t8qyuqL"
      },
      "execution_count": null,
      "outputs": []
    },
    {
      "cell_type": "code",
      "source": [
        "model_4.summary()"
      ],
      "metadata": {
        "colab": {
          "base_uri": "https://localhost:8080/"
        },
        "id": "O_pOJX7F2RCW",
        "outputId": "db072db8-8d65-4d60-bbd1-40632e9356a7"
      },
      "execution_count": null,
      "outputs": [
        {
          "output_type": "stream",
          "name": "stdout",
          "text": [
            "Model: \"model_4_token_char_embedding\"\n",
            "__________________________________________________________________________________________________\n",
            " Layer (type)                Output Shape                 Param #   Connected to                  \n",
            "==================================================================================================\n",
            " input_16 (InputLayer)       [(None, 1)]                  0         []                            \n",
            "                                                                                                  \n",
            " char_vectorizer (TextVecto  (None, 240)                  0         ['input_16[0][0]']            \n",
            " rization)                                                                                        \n",
            "                                                                                                  \n",
            " input_15 (InputLayer)       [(None,)]                    0         []                            \n",
            "                                                                                                  \n",
            " char_embedding (Embedding)  (None, 240, 25)              700       ['char_vectorizer[2][0]']     \n",
            "                                                                                                  \n",
            " universal_sentence_encoder  (None, 512)                  2567978   ['input_15[0][0]']            \n",
            "  (KerasLayer)                                            24                                      \n",
            "                                                                                                  \n",
            " bidirectional_2 (Bidirecti  (None, 64)                   14848     ['char_embedding[2][0]']      \n",
            " onal)                                                                                            \n",
            "                                                                                                  \n",
            " dense_20 (Dense)            (None, 128)                  65664     ['universal_sentence_encoder[2\n",
            "                                                                    ][0]']                        \n",
            "                                                                                                  \n",
            " dense_21 (Dense)            (None, 128)                  8320      ['bidirectional_2[0][0]']     \n",
            "                                                                                                  \n",
            " concatenate_2 (Concatenate  (None, 256)                  0         ['dense_20[0][0]',            \n",
            " )                                                                   'dense_21[0][0]']            \n",
            "                                                                                                  \n",
            " dropout_6 (Dropout)         (None, 256)                  0         ['concatenate_2[0][0]']       \n",
            "                                                                                                  \n",
            " dense_22 (Dense)            (None, 128)                  32896     ['dropout_6[0][0]']           \n",
            "                                                                                                  \n",
            " dropout_7 (Dropout)         (None, 128)                  0         ['dense_22[0][0]']            \n",
            "                                                                                                  \n",
            " dense_23 (Dense)            (None, 5)                    645       ['dropout_7[0][0]']           \n",
            "                                                                                                  \n",
            "==================================================================================================\n",
            "Total params: 256920897 (980.08 MB)\n",
            "Trainable params: 123073 (480.75 KB)\n",
            "Non-trainable params: 256797824 (979.61 MB)\n",
            "__________________________________________________________________________________________________\n"
          ]
        }
      ]
    },
    {
      "cell_type": "markdown",
      "source": [
        "#### Plotting and visually exploring different data inputs"
      ],
      "metadata": {
        "id": "vCVUJ3vN5iFx"
      }
    },
    {
      "cell_type": "code",
      "source": [
        "from tensorflow.keras.utils import plot_model\n",
        "plot_model(model_4, show_shapes=True)"
      ],
      "metadata": {
        "colab": {
          "base_uri": "https://localhost:8080/",
          "height": 1000
        },
        "id": "gkQ9AxDK3RNZ",
        "outputId": "50cbc88d-caad-44dc-9516-0d2ff8d9367d"
      },
      "execution_count": null,
      "outputs": [
        {
          "output_type": "execute_result",
          "data": {
            "image/png": "[encoded data removed]",
            "text/plain": [
              "<IPython.core.display.Image object>"
            ]
          },
          "metadata": {},
          "execution_count": 135
        }
      ]
    },
    {
      "cell_type": "code",
      "source": [
        "model_4.compile(loss='categorical_crossentropy',\n",
        "                optimizer=tf.keras.optimizers.Adam(),\n",
        "                metrics=['accuracy'])"
      ],
      "metadata": {
        "id": "YD5zS9Wj9F0i"
      },
      "execution_count": null,
      "outputs": []
    },
    {
      "cell_type": "markdown",
      "source": [
        "#### Combining token and character data into a tf.data Dataset"
      ],
      "metadata": {
        "id": "yYyTFHErAFp3"
      }
    },
    {
      "cell_type": "code",
      "source": [
        "train_token_char_data = tf.data.Dataset.from_tensor_slices((train_sentences, train_chars))\n",
        "train_token_char_labels = tf.data.Dataset.from_tensor_slices(train_labels_one_hot)\n",
        "train_token_char_dataset = tf.data.Dataset.zip((train_token_char_data, train_token_char_labels))\n",
        "train_token_char_dataset = train_token_char_dataset.batch(32).prefetch(tf.data.AUTOTUNE)\n",
        "\n",
        "valid_token_char_data = tf.data.Dataset.from_tensor_slices((val_sentences, val_chars))\n",
        "valid_token_char_labels = tf.data.Dataset.from_tensor_slices(val_labels_one_hot)\n",
        "valid_token_char_dataset = tf.data.Dataset.zip((valid_token_char_data, valid_token_char_labels))\n",
        "valid_token_char_dataset = valid_token_char_dataset.batch(32).prefetch(tf.data.AUTOTUNE)\n",
        "\n",
        "test_token_char_data = tf.data.Dataset.from_tensor_slices((test_sentences, test_chars))\n",
        "test_token_char_labels = tf.data.Dataset.from_tensor_slices(test_labels_one_hot)\n",
        "test_token_char_dataset = tf.data.Dataset.zip((test_token_char_data, test_token_char_labels))\n",
        "test_token_char_dataset = test_token_char_dataset.batch(32).prefetch(tf.data.AUTOTUNE)"
      ],
      "metadata": {
        "id": "CT-fGDOkAFaV"
      },
      "execution_count": null,
      "outputs": []
    },
    {
      "cell_type": "code",
      "source": [
        "train_token_char_dataset"
      ],
      "metadata": {
        "colab": {
          "base_uri": "https://localhost:8080/"
        },
        "id": "6gE2sOMM_j2a",
        "outputId": "2f37295a-635a-416d-94f9-087962256c51"
      },
      "execution_count": null,
      "outputs": [
        {
          "output_type": "execute_result",
          "data": {
            "text/plain": [
              "<_PrefetchDataset element_spec=((TensorSpec(shape=(None,), dtype=tf.string, name=None), TensorSpec(shape=(None, 1), dtype=tf.string, name=None)), TensorSpec(shape=(None, 5), dtype=tf.float64, name=None))>"
            ]
          },
          "metadata": {},
          "execution_count": 138
        }
      ]
    },
    {
      "cell_type": "code",
      "source": [
        "model_4_history = model_4.fit(train_token_char_dataset,\n",
        "                              epochs=1,\n",
        "                              validation_data=valid_token_char_dataset,\n",
        "                              validation_steps=int(0.15 * len(valid_token_char_dataset)))"
      ],
      "metadata": {
        "colab": {
          "base_uri": "https://localhost:8080/"
        },
        "id": "BXFpgI3NApfz",
        "outputId": "068834a5-0d35-44b6-f132-9d6042873f1b"
      },
      "execution_count": null,
      "outputs": [
        {
          "output_type": "stream",
          "name": "stdout",
          "text": [
            "Epoch 1/5\n",
            "945/945 [==============================] - 256s 264ms/step - loss: 0.9066 - accuracy: 0.6426 - val_loss: 0.7368 - val_accuracy: 0.7125\n",
            "Epoch 2/5\n",
            "945/945 [==============================] - 253s 268ms/step - loss: 0.7426 - accuracy: 0.7201 - val_loss: 0.6915 - val_accuracy: 0.7327\n",
            "Epoch 3/5\n",
            "945/945 [==============================] - 241s 255ms/step - loss: 0.6981 - accuracy: 0.7357 - val_loss: 0.6642 - val_accuracy: 0.7456\n",
            "Epoch 4/5\n",
            "945/945 [==============================] - 242s 256ms/step - loss: 0.6637 - accuracy: 0.7507 - val_loss: 0.6538 - val_accuracy: 0.7480\n",
            "Epoch 5/5\n",
            "945/945 [==============================] - 240s 254ms/step - loss: 0.6406 - accuracy: 0.7581 - val_loss: 0.6448 - val_accuracy: 0.7469\n"
          ]
        }
      ]
    },
    {
      "cell_type": "code",
      "source": [
        "model_4_preds = model_4.predict(valid_token_char_dataset)\n",
        "model_4_preds = tf.argmax(model_4_preds, axis=1)\n",
        "model_4_results = calculate_results(y_true=val_labels_encoded,\n",
        "                                      y_pred=model_4_preds)\n",
        "model_4_results"
      ],
      "metadata": {
        "colab": {
          "base_uri": "https://localhost:8080/"
        },
        "id": "v8qonCF9MmIy",
        "outputId": "6b76aa1b-be11-43d3-db93-4b2a07f35d2d"
      },
      "execution_count": null,
      "outputs": [
        {
          "output_type": "stream",
          "name": "stdout",
          "text": [
            "942/942 [==============================] - 56s 57ms/step\n"
          ]
        },
        {
          "output_type": "execute_result",
          "data": {
            "text/plain": [
              "{'accuracy': 75.01908080305293,\n",
              " 'precision': 0.7533646862961455,\n",
              " 'recall': 0.7501908080305293,\n",
              " 'f1': 0.746851115027539}"
            ]
          },
          "metadata": {},
          "execution_count": 141
        }
      ]
    },
    {
      "cell_type": "markdown",
      "source": [
        "### Model 5: model_4 + Positional embedding"
      ],
      "metadata": {
        "id": "p-5myrt3OCDx"
      }
    },
    {
      "cell_type": "code",
      "source": [
        "train_df['line_number'].value_counts()"
      ],
      "metadata": {
        "colab": {
          "base_uri": "https://localhost:8080/",
          "height": 962
        },
        "id": "70LNosD5QzRf",
        "outputId": "2f3c7b48-d654-4b6f-f55a-c52e36dee6ff"
      },
      "execution_count": null,
      "outputs": [
        {
          "output_type": "execute_result",
          "data": {
            "text/plain": [
              "line_number\n",
              "0     2500\n",
              "1     2500\n",
              "2     2500\n",
              "3     2500\n",
              "4     2497\n",
              "5     2488\n",
              "6     2461\n",
              "7     2384\n",
              "8     2247\n",
              "9     2032\n",
              "10    1699\n",
              "11    1358\n",
              "12    1001\n",
              "13     713\n",
              "14     494\n",
              "15     323\n",
              "16     203\n",
              "17     112\n",
              "18      75\n",
              "19      50\n",
              "20      27\n",
              "21      18\n",
              "22      10\n",
              "23       7\n",
              "24       7\n",
              "25       4\n",
              "26       2\n",
              "Name: count, dtype: int64"
            ],
            "text/html": [
              "<div>\n",
              "<style scoped>\n",
              "    .dataframe tbody tr th:only-of-type {\n",
              "        vertical-align: middle;\n",
              "    }\n",
              "\n",
              "    .dataframe tbody tr th {\n",
              "        vertical-align: top;\n",
              "    }\n",
              "\n",
              "    .dataframe thead th {\n",
              "        text-align: right;\n",
              "    }\n",
              "</style>\n",
              "<table border=\"1\" class=\"dataframe\">\n",
              "  <thead>\n",
              "    <tr style=\"text-align: right;\">\n",
              "      <th></th>\n",
              "      <th>count</th>\n",
              "    </tr>\n",
              "    <tr>\n",
              "      <th>line_number</th>\n",
              "      <th></th>\n",
              "    </tr>\n",
              "  </thead>\n",
              "  <tbody>\n",
              "    <tr>\n",
              "      <th>0</th>\n",
              "      <td>2500</td>\n",
              "    </tr>\n",
              "    <tr>\n",
              "      <th>1</th>\n",
              "      <td>2500</td>\n",
              "    </tr>\n",
              "    <tr>\n",
              "      <th>2</th>\n",
              "      <td>2500</td>\n",
              "    </tr>\n",
              "    <tr>\n",
              "      <th>3</th>\n",
              "      <td>2500</td>\n",
              "    </tr>\n",
              "    <tr>\n",
              "      <th>4</th>\n",
              "      <td>2497</td>\n",
              "    </tr>\n",
              "    <tr>\n",
              "      <th>5</th>\n",
              "      <td>2488</td>\n",
              "    </tr>\n",
              "    <tr>\n",
              "      <th>6</th>\n",
              "      <td>2461</td>\n",
              "    </tr>\n",
              "    <tr>\n",
              "      <th>7</th>\n",
              "      <td>2384</td>\n",
              "    </tr>\n",
              "    <tr>\n",
              "      <th>8</th>\n",
              "      <td>2247</td>\n",
              "    </tr>\n",
              "    <tr>\n",
              "      <th>9</th>\n",
              "      <td>2032</td>\n",
              "    </tr>\n",
              "    <tr>\n",
              "      <th>10</th>\n",
              "      <td>1699</td>\n",
              "    </tr>\n",
              "    <tr>\n",
              "      <th>11</th>\n",
              "      <td>1358</td>\n",
              "    </tr>\n",
              "    <tr>\n",
              "      <th>12</th>\n",
              "      <td>1001</td>\n",
              "    </tr>\n",
              "    <tr>\n",
              "      <th>13</th>\n",
              "      <td>713</td>\n",
              "    </tr>\n",
              "    <tr>\n",
              "      <th>14</th>\n",
              "      <td>494</td>\n",
              "    </tr>\n",
              "    <tr>\n",
              "      <th>15</th>\n",
              "      <td>323</td>\n",
              "    </tr>\n",
              "    <tr>\n",
              "      <th>16</th>\n",
              "      <td>203</td>\n",
              "    </tr>\n",
              "    <tr>\n",
              "      <th>17</th>\n",
              "      <td>112</td>\n",
              "    </tr>\n",
              "    <tr>\n",
              "      <th>18</th>\n",
              "      <td>75</td>\n",
              "    </tr>\n",
              "    <tr>\n",
              "      <th>19</th>\n",
              "      <td>50</td>\n",
              "    </tr>\n",
              "    <tr>\n",
              "      <th>20</th>\n",
              "      <td>27</td>\n",
              "    </tr>\n",
              "    <tr>\n",
              "      <th>21</th>\n",
              "      <td>18</td>\n",
              "    </tr>\n",
              "    <tr>\n",
              "      <th>22</th>\n",
              "      <td>10</td>\n",
              "    </tr>\n",
              "    <tr>\n",
              "      <th>23</th>\n",
              "      <td>7</td>\n",
              "    </tr>\n",
              "    <tr>\n",
              "      <th>24</th>\n",
              "      <td>7</td>\n",
              "    </tr>\n",
              "    <tr>\n",
              "      <th>25</th>\n",
              "      <td>4</td>\n",
              "    </tr>\n",
              "    <tr>\n",
              "      <th>26</th>\n",
              "      <td>2</td>\n",
              "    </tr>\n",
              "  </tbody>\n",
              "</table>\n",
              "</div><br><label><b>dtype:</b> int64</label>"
            ]
          },
          "metadata": {},
          "execution_count": 142
        }
      ]
    },
    {
      "cell_type": "code",
      "source": [
        "train_df.line_number.plot.hist(bins=15)"
      ],
      "metadata": {
        "colab": {
          "base_uri": "https://localhost:8080/",
          "height": 447
        },
        "id": "mbNW2jInRA0a",
        "outputId": "58ab6246-3c7c-4161-d5f8-e1cf7fc9c48d"
      },
      "execution_count": null,
      "outputs": [
        {
          "output_type": "execute_result",
          "data": {
            "text/plain": [
              "<Axes: ylabel='Frequency'>"
            ]
          },
          "metadata": {},
          "execution_count": 149
        },
        {
          "output_type": "display_data",
          "data": {
            "text/plain": [
              "<Figure size 640x480 with 1 Axes>"
            ],
            "image/png": "[encoded data removed]"
          },
          "metadata": {}
        }
      ]
    },
    {
      "cell_type": "code",
      "source": [
        "train_line_number_one_hot = tf.one_hot(train_df.line_number.to_numpy(), depth=15)\n",
        "train_line_number_one_hot[:10], train_line_number_one_hot.shape"
      ],
      "metadata": {
        "colab": {
          "base_uri": "https://localhost:8080/"
        },
        "id": "pjL5rYgDRUda",
        "outputId": "ab254de5-3ee5-4c86-b6e1-8896ea24e1bd"
      },
      "execution_count": null,
      "outputs": [
        {
          "output_type": "execute_result",
          "data": {
            "text/plain": [
              "(<tf.Tensor: shape=(10, 15), dtype=float32, numpy=\n",
              " array([[1., 0., 0., 0., 0., 0., 0., 0., 0., 0., 0., 0., 0., 0., 0.],\n",
              "        [0., 1., 0., 0., 0., 0., 0., 0., 0., 0., 0., 0., 0., 0., 0.],\n",
              "        [0., 0., 1., 0., 0., 0., 0., 0., 0., 0., 0., 0., 0., 0., 0.],\n",
              "        [0., 0., 0., 1., 0., 0., 0., 0., 0., 0., 0., 0., 0., 0., 0.],\n",
              "        [0., 0., 0., 0., 1., 0., 0., 0., 0., 0., 0., 0., 0., 0., 0.],\n",
              "        [0., 0., 0., 0., 0., 1., 0., 0., 0., 0., 0., 0., 0., 0., 0.],\n",
              "        [0., 0., 0., 0., 0., 0., 1., 0., 0., 0., 0., 0., 0., 0., 0.],\n",
              "        [0., 0., 0., 0., 0., 0., 0., 1., 0., 0., 0., 0., 0., 0., 0.],\n",
              "        [0., 0., 0., 0., 0., 0., 0., 0., 1., 0., 0., 0., 0., 0., 0.],\n",
              "        [0., 0., 0., 0., 0., 0., 0., 0., 0., 1., 0., 0., 0., 0., 0.]],\n",
              "       dtype=float32)>,\n",
              " TensorShape([30212, 15]))"
            ]
          },
          "metadata": {},
          "execution_count": 151
        }
      ]
    },
    {
      "cell_type": "code",
      "source": [
        "val_line_number_one_hot = tf.one_hot(val_df.line_number.to_numpy(), depth=15)\n",
        "test_line_number_one_hot = tf.one_hot(test_df.line_number.to_numpy(), depth=15)"
      ],
      "metadata": {
        "id": "TYWASUfDSES1"
      },
      "execution_count": null,
      "outputs": []
    },
    {
      "cell_type": "code",
      "source": [
        "train_df['total_lines'].value_counts()"
      ],
      "metadata": {
        "colab": {
          "base_uri": "https://localhost:8080/",
          "height": 836
        },
        "id": "gPZ3NqS8Su34",
        "outputId": "6f1b6a66-90d0-4a06-cba7-4a65dab43e3e"
      },
      "execution_count": null,
      "outputs": [
        {
          "output_type": "execute_result",
          "data": {
            "text/plain": [
              "total_lines\n",
              "11    4284\n",
              "10    3751\n",
              "12    3744\n",
              "9     3330\n",
              "13    3066\n",
              "14    2565\n",
              "8     1935\n",
              "15    1920\n",
              "16    1547\n",
              "7     1096\n",
              "17     666\n",
              "6      539\n",
              "18     475\n",
              "19     460\n",
              "20     189\n",
              "21     176\n",
              "5      162\n",
              "24      75\n",
              "22      69\n",
              "26      54\n",
              "25      52\n",
              "4       45\n",
              "3       12\n",
              "Name: count, dtype: int64"
            ],
            "text/html": [
              "<div>\n",
              "<style scoped>\n",
              "    .dataframe tbody tr th:only-of-type {\n",
              "        vertical-align: middle;\n",
              "    }\n",
              "\n",
              "    .dataframe tbody tr th {\n",
              "        vertical-align: top;\n",
              "    }\n",
              "\n",
              "    .dataframe thead th {\n",
              "        text-align: right;\n",
              "    }\n",
              "</style>\n",
              "<table border=\"1\" class=\"dataframe\">\n",
              "  <thead>\n",
              "    <tr style=\"text-align: right;\">\n",
              "      <th></th>\n",
              "      <th>count</th>\n",
              "    </tr>\n",
              "    <tr>\n",
              "      <th>total_lines</th>\n",
              "      <th></th>\n",
              "    </tr>\n",
              "  </thead>\n",
              "  <tbody>\n",
              "    <tr>\n",
              "      <th>11</th>\n",
              "      <td>4284</td>\n",
              "    </tr>\n",
              "    <tr>\n",
              "      <th>10</th>\n",
              "      <td>3751</td>\n",
              "    </tr>\n",
              "    <tr>\n",
              "      <th>12</th>\n",
              "      <td>3744</td>\n",
              "    </tr>\n",
              "    <tr>\n",
              "      <th>9</th>\n",
              "      <td>3330</td>\n",
              "    </tr>\n",
              "    <tr>\n",
              "      <th>13</th>\n",
              "      <td>3066</td>\n",
              "    </tr>\n",
              "    <tr>\n",
              "      <th>14</th>\n",
              "      <td>2565</td>\n",
              "    </tr>\n",
              "    <tr>\n",
              "      <th>8</th>\n",
              "      <td>1935</td>\n",
              "    </tr>\n",
              "    <tr>\n",
              "      <th>15</th>\n",
              "      <td>1920</td>\n",
              "    </tr>\n",
              "    <tr>\n",
              "      <th>16</th>\n",
              "      <td>1547</td>\n",
              "    </tr>\n",
              "    <tr>\n",
              "      <th>7</th>\n",
              "      <td>1096</td>\n",
              "    </tr>\n",
              "    <tr>\n",
              "      <th>17</th>\n",
              "      <td>666</td>\n",
              "    </tr>\n",
              "    <tr>\n",
              "      <th>6</th>\n",
              "      <td>539</td>\n",
              "    </tr>\n",
              "    <tr>\n",
              "      <th>18</th>\n",
              "      <td>475</td>\n",
              "    </tr>\n",
              "    <tr>\n",
              "      <th>19</th>\n",
              "      <td>460</td>\n",
              "    </tr>\n",
              "    <tr>\n",
              "      <th>20</th>\n",
              "      <td>189</td>\n",
              "    </tr>\n",
              "    <tr>\n",
              "      <th>21</th>\n",
              "      <td>176</td>\n",
              "    </tr>\n",
              "    <tr>\n",
              "      <th>5</th>\n",
              "      <td>162</td>\n",
              "    </tr>\n",
              "    <tr>\n",
              "      <th>24</th>\n",
              "      <td>75</td>\n",
              "    </tr>\n",
              "    <tr>\n",
              "      <th>22</th>\n",
              "      <td>69</td>\n",
              "    </tr>\n",
              "    <tr>\n",
              "      <th>26</th>\n",
              "      <td>54</td>\n",
              "    </tr>\n",
              "    <tr>\n",
              "      <th>25</th>\n",
              "      <td>52</td>\n",
              "    </tr>\n",
              "    <tr>\n",
              "      <th>4</th>\n",
              "      <td>45</td>\n",
              "    </tr>\n",
              "    <tr>\n",
              "      <th>3</th>\n",
              "      <td>12</td>\n",
              "    </tr>\n",
              "  </tbody>\n",
              "</table>\n",
              "</div><br><label><b>dtype:</b> int64</label>"
            ]
          },
          "metadata": {},
          "execution_count": 153
        }
      ]
    },
    {
      "cell_type": "code",
      "source": [
        "train_df.total_lines.plot.hist(bins=20)"
      ],
      "metadata": {
        "colab": {
          "base_uri": "https://localhost:8080/",
          "height": 447
        },
        "id": "2n7hEglITvyD",
        "outputId": "9131249f-eaee-4c0e-99a5-a65ebc5298fa"
      },
      "execution_count": null,
      "outputs": [
        {
          "output_type": "execute_result",
          "data": {
            "text/plain": [
              "<Axes: ylabel='Frequency'>"
            ]
          },
          "metadata": {},
          "execution_count": 155
        },
        {
          "output_type": "display_data",
          "data": {
            "text/plain": [
              "<Figure size 640x480 with 1 Axes>"
            ],
            "image/png": "[encoded data removed]"
          },
          "metadata": {}
        }
      ]
    },
    {
      "cell_type": "code",
      "source": [
        "np.percentile(train_df.total_lines, 98)"
      ],
      "metadata": {
        "colab": {
          "base_uri": "https://localhost:8080/"
        },
        "id": "AfwRnSsxTKsn",
        "outputId": "6a57c6d8-1124-47fc-9b8e-bb0fa932defd"
      },
      "execution_count": null,
      "outputs": [
        {
          "output_type": "execute_result",
          "data": {
            "text/plain": [
              "20.0"
            ]
          },
          "metadata": {},
          "execution_count": 157
        }
      ]
    },
    {
      "cell_type": "code",
      "source": [
        "train_line_number_one_hot.shape, train_total_lines_one_hot.ndim"
      ],
      "metadata": {
        "colab": {
          "base_uri": "https://localhost:8080/"
        },
        "id": "HGuo63e1gZ--",
        "outputId": "84fed6cd-349f-4198-bc97-04cc6a1549fa"
      },
      "execution_count": null,
      "outputs": [
        {
          "output_type": "execute_result",
          "data": {
            "text/plain": [
              "(TensorShape([30212, 15]), 2)"
            ]
          },
          "metadata": {},
          "execution_count": 160
        }
      ]
    },
    {
      "cell_type": "code",
      "source": [
        "train_total_lines_one_hot = tf.one_hot(train_df.total_lines.to_numpy(), depth=20)\n",
        "val_total_lines_one_hot = tf.one_hot(val_df.total_lines.to_numpy(), depth=20)\n",
        "test_total_lines_one_hot = tf.one_hot(test_df.total_lines.to_numpy(), depth=20)"
      ],
      "metadata": {
        "id": "mmWgZD08UrNw"
      },
      "execution_count": null,
      "outputs": []
    },
    {
      "cell_type": "code",
      "source": [
        "# Token inputs\n",
        "token_inputs = Input(shape=[], dtype='string')\n",
        "token_embedding = embedding_layer(token_inputs)\n",
        "token_output = Dense(128, activation='relu')(token_embedding)\n",
        "token_model = Model(token_inputs, token_output)\n",
        "\n",
        "# Char inputs\n",
        "char_inputs = Input(shape=(1,), dtype='string')\n",
        "char_vectors = char_vectorizer(char_inputs)\n",
        "char_embedding = char_embed(char_vectors)\n",
        "char_bi_lstm = tf.keras.layers.Bidirectional(tf.keras.layers.LSTM(32))(char_embedding)\n",
        "char_output = Dense(128, activation='relu')(char_bi_lstm)\n",
        "char_model = Model(char_inputs, char_output)\n",
        "\n",
        "# Line number inputs\n",
        "line_number_inputs = Input(shape=(15,), dtype='float32')\n",
        "line_number_output = Dense(32, activation='relu')(line_number_inputs)\n",
        "line_number_model = Model(line_number_inputs, line_number_output)\n",
        "\n",
        "# Total number inputs\n",
        "total_lines_inputs = Input(shape=(20,), dtype='float32')\n",
        "total_lines_output = Dense(32, activation='relu')(total_lines_inputs)\n",
        "total_lines_model = Model(total_lines_inputs, total_lines_output)\n",
        "\n",
        "combined_embedding = tf.keras.layers.Concatenate()([token_model.output, char_model.output])\n",
        "z = Dense(128, activation='relu')(combined_embedding)\n",
        "z = Dropout(0.5)(z)\n",
        "tribrid_embedding = tf.keras.layers.Concatenate()([line_number_model.output, total_lines_model.output, z])\n",
        "x = Dense(128, activation='relu')(tribrid_embedding)\n",
        "x = Dropout(0.5)(x)\n",
        "outputs = Dense(num_classes, activation='softmax')(x)\n",
        "\n",
        "model_5 = Model([token_model.input, char_model.input, line_number_model.input, total_lines_model.input], outputs, name='model_5_token_char_embedding')"
      ],
      "metadata": {
        "id": "XuUvNrFfVCoR"
      },
      "execution_count": null,
      "outputs": []
    },
    {
      "cell_type": "code",
      "source": [
        "model_5.summary()"
      ],
      "metadata": {
        "id": "U0Bkt6dqiSiG",
        "colab": {
          "base_uri": "https://localhost:8080/"
        },
        "outputId": "c28c9007-3512-47cf-bcf0-cbe9d43ef369"
      },
      "execution_count": null,
      "outputs": [
        {
          "output_type": "stream",
          "name": "stdout",
          "text": [
            "Model: \"model_5_token_char_embedding\"\n",
            "__________________________________________________________________________________________________\n",
            " Layer (type)                Output Shape                 Param #   Connected to                  \n",
            "==================================================================================================\n",
            " input_30 (InputLayer)       [(None, 1)]                  0         []                            \n",
            "                                                                                                  \n",
            " char_vectorizer (TextVecto  (None, 240)                  0         ['input_30[0][0]']            \n",
            " rization)                                                                                        \n",
            "                                                                                                  \n",
            " input_29 (InputLayer)       [(None,)]                    0         []                            \n",
            "                                                                                                  \n",
            " char_embedding (Embedding)  (None, 240, 25)              700       ['char_vectorizer[1][0]']     \n",
            "                                                                                                  \n",
            " universal_sentence_encoder  (None, 512)                  2567978   ['input_29[0][0]']            \n",
            "  (KerasLayer)                                            24                                      \n",
            "                                                                                                  \n",
            " bidirectional_6 (Bidirecti  (None, 64)                   14848     ['char_embedding[6][0]']      \n",
            " onal)                                                                                            \n",
            "                                                                                                  \n",
            " dense_45 (Dense)            (None, 128)                  65664     ['universal_sentence_encoder[6\n",
            "                                                                    ][0]']                        \n",
            "                                                                                                  \n",
            " dense_46 (Dense)            (None, 128)                  8320      ['bidirectional_6[0][0]']     \n",
            "                                                                                                  \n",
            " concatenate_9 (Concatenate  (None, 256)                  0         ['dense_45[0][0]',            \n",
            " )                                                                   'dense_46[0][0]']            \n",
            "                                                                                                  \n",
            " input_31 (InputLayer)       [(None, 15)]                 0         []                            \n",
            "                                                                                                  \n",
            " input_32 (InputLayer)       [(None, 20)]                 0         []                            \n",
            "                                                                                                  \n",
            " dense_49 (Dense)            (None, 128)                  32896     ['concatenate_9[0][0]']       \n",
            "                                                                                                  \n",
            " dense_47 (Dense)            (None, 32)                   512       ['input_31[0][0]']            \n",
            "                                                                                                  \n",
            " dense_48 (Dense)            (None, 32)                   672       ['input_32[0][0]']            \n",
            "                                                                                                  \n",
            " dropout_14 (Dropout)        (None, 128)                  0         ['dense_49[0][0]']            \n",
            "                                                                                                  \n",
            " concatenate_10 (Concatenat  (None, 192)                  0         ['dense_47[0][0]',            \n",
            " e)                                                                  'dense_48[0][0]',            \n",
            "                                                                     'dropout_14[0][0]']          \n",
            "                                                                                                  \n",
            " dense_50 (Dense)            (None, 128)                  24704     ['concatenate_10[0][0]']      \n",
            "                                                                                                  \n",
            " dropout_15 (Dropout)        (None, 128)                  0         ['dense_50[0][0]']            \n",
            "                                                                                                  \n",
            " dense_51 (Dense)            (None, 5)                    645       ['dropout_15[0][0]']          \n",
            "                                                                                                  \n",
            "==================================================================================================\n",
            "Total params: 256946785 (980.17 MB)\n",
            "Trainable params: 148961 (581.88 KB)\n",
            "Non-trainable params: 256797824 (979.61 MB)\n",
            "__________________________________________________________________________________________________\n"
          ]
        }
      ]
    },
    {
      "cell_type": "code",
      "source": [
        "plot_model(model_5, show_shapes=True)"
      ],
      "metadata": {
        "colab": {
          "base_uri": "https://localhost:8080/",
          "height": 1000
        },
        "id": "dmf--d0MkFX4",
        "outputId": "820d9be3-7cac-4fc7-bf09-590cbaba9016"
      },
      "execution_count": null,
      "outputs": [
        {
          "output_type": "execute_result",
          "data": {
            "image/png": "[encoded data removed]",
            "text/plain": [
              "<IPython.core.display.Image object>"
            ]
          },
          "metadata": {},
          "execution_count": 168
        }
      ]
    },
    {
      "cell_type": "code",
      "source": [
        "model_5.compile(loss=tf.keras.losses.CategoricalCrossentropy(label_smoothing=0.2),\n",
        "                optimizer=tf.keras.optimizers.Adam(),\n",
        "                metrics=['accuracy'])"
      ],
      "metadata": {
        "id": "NPOKqIM0mQVV"
      },
      "execution_count": null,
      "outputs": []
    },
    {
      "cell_type": "markdown",
      "source": [
        "#### Preparing the dataset"
      ],
      "metadata": {
        "id": "LeYKQEvFrCaw"
      }
    },
    {
      "cell_type": "code",
      "source": [
        "train_token_char_pos_data = tf.data.Dataset.from_tensor_slices((train_sentences, train_chars, train_line_number_one_hot, train_total_lines_one_hot))\n",
        "train_token_char_pos_labels = tf.data.Dataset.from_tensor_slices(train_labels_one_hot)\n",
        "train_token_char_pos_dataset = tf.data.Dataset.zip((train_token_char_pos_data, train_token_char_pos_labels))\n",
        "train_token_char_pos_dataset = train_token_char_pos_dataset.batch(32).prefetch(tf.data.AUTOTUNE)\n",
        "\n",
        "val_token_char_pos_data = tf.data.Dataset.from_tensor_slices((val_sentences, val_chars, val_line_number_one_hot, val_total_lines_one_hot))\n",
        "val_token_char_pos_labels = tf.data.Dataset.from_tensor_slices(val_labels_one_hot)\n",
        "val_token_char_pos_dataset = tf.data.Dataset.zip((val_token_char_pos_data, val_token_char_pos_labels))\n",
        "val_token_char_pos_dataset = val_token_char_pos_dataset.batch(32).prefetch(tf.data.AUTOTUNE)"
      ],
      "metadata": {
        "id": "PgDnHJLBmjVx"
      },
      "execution_count": null,
      "outputs": []
    },
    {
      "cell_type": "code",
      "source": [
        "train_token_char_pos_dataset"
      ],
      "metadata": {
        "colab": {
          "base_uri": "https://localhost:8080/"
        },
        "id": "_KrIkqckzi5m",
        "outputId": "50fb0559-56f3-4e00-c569-d2980fd558fa"
      },
      "execution_count": null,
      "outputs": [
        {
          "output_type": "execute_result",
          "data": {
            "text/plain": [
              "<_PrefetchDataset element_spec=((TensorSpec(shape=(None,), dtype=tf.string, name=None), TensorSpec(shape=(None, 1), dtype=tf.string, name=None), TensorSpec(shape=(None, 15), dtype=tf.float32, name=None), TensorSpec(shape=(None, 20), dtype=tf.float32, name=None)), TensorSpec(shape=(None, 5), dtype=tf.float64, name=None))>"
            ]
          },
          "metadata": {},
          "execution_count": 174
        }
      ]
    },
    {
      "cell_type": "code",
      "source": [
        "model_5_history = model_5.fit(train_token_char_pos_dataset,\n",
        "                              epochs=3,\n",
        "                              validation_data=val_token_char_pos_dataset,\n",
        "                              validation_steps=int(0.15 * len(val_token_char_pos_dataset)))"
      ],
      "metadata": {
        "colab": {
          "base_uri": "https://localhost:8080/"
        },
        "id": "xpk0FshyzpEv",
        "outputId": "9b6caa2f-c412-438f-8c7c-d20a47288c86"
      },
      "execution_count": null,
      "outputs": [
        {
          "output_type": "stream",
          "name": "stdout",
          "text": [
            "Epoch 1/3\n",
            "945/945 [==============================] - 256s 261ms/step - loss: 1.0476 - accuracy: 0.7508 - val_loss: 0.9375 - val_accuracy: 0.8231\n",
            "Epoch 2/3\n",
            "869/945 [==========================>...] - ETA: 18s - loss: 0.9351 - accuracy: 0.8357"
          ]
        }
      ]
    },
    {
      "cell_type": "code",
      "source": [
        "model_5_preds = model_5.predict(val_token_char_pos_dataset)\n",
        "model_5_preds = tf.argmax(model_5_preds, axis=1)\n",
        "model_5_results = calculate_results(y_true=val_labels_encoded,\n",
        "                                      y_pred=model_5_preds)\n",
        "model_5_results"
      ],
      "metadata": {
        "id": "eLmInloU0Feh"
      },
      "execution_count": null,
      "outputs": []
    },
    {
      "cell_type": "markdown",
      "source": [
        "## Save the model"
      ],
      "metadata": {
        "id": "maG4zkgR2m0V"
      }
    },
    {
      "cell_type": "code",
      "source": [
        "model_5.save('skimlit_tribrid_model')"
      ],
      "metadata": {
        "id": "VnV8tB3i2Cdp"
      },
      "execution_count": null,
      "outputs": []
    },
    {
      "cell_type": "code",
      "source": [
        "loaded_model_5 = tf.keras.models.load_model('skimlit_tribrid_model')"
      ],
      "metadata": {
        "id": "y7KdBja03BSn"
      },
      "execution_count": null,
      "outputs": []
    }
  ]
}